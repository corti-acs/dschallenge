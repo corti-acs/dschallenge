{
 "cells": [
  {
   "cell_type": "markdown",
   "metadata": {},
   "source": [
    "# PLOT THE MONTHLY NUMBER OF SEARCHES FOR FLIGHTS ARRIVING AT MALAGA, MADRID OR BARCELONA"
   ]
  },
  {
   "cell_type": "code",
   "execution_count": 1,
   "metadata": {},
   "outputs": [],
   "source": [
    "import pandas as pd\n",
    "import bz2\n"
   ]
  },
  {
   "cell_type": "code",
   "execution_count": 2,
   "metadata": {},
   "outputs": [
    {
     "data": {
      "text/plain": [
       "'/Users/cortinas/Documents/DSchallenge/dschallenge'"
      ]
     },
     "execution_count": 2,
     "metadata": {},
     "output_type": "execute_result"
    }
   ],
   "source": [
    "pwd"
   ]
  },
  {
   "cell_type": "code",
   "execution_count": 3,
   "metadata": {},
   "outputs": [
    {
     "name": "stdout",
     "output_type": "stream",
     "text": [
      "total 15510272\r\n",
      "-rw-r--r--@ 1 cortinas  staff         679 Jun 11 18:33 README.md\r\n",
      "-rw-r--r--  1 cortinas  staff  4244874509 Jun 11 18:54 bookings.csv\r\n",
      "-rw-r--r--  1 cortinas  staff  3696229366 Jun 11 18:57 searches.csv\r\n",
      "-rw-r--r--@ 1 cortinas  staff         639 Jun 15 21:29 top_10_airports.csv\r\n",
      "-rw-r--r--  1 cortinas  staff       32622 Jun 15 21:39 exercise3.ipynb\r\n",
      "-rw-r--r--  1 cortinas  staff       21907 Jun 15 21:40 exercise1.ipynb\r\n",
      "-rw-r--r--  1 cortinas  staff       85887 Jun 15 21:40 exercise2.ipynb\r\n"
     ]
    }
   ],
   "source": [
    "ls -lrt"
   ]
  },
  {
   "cell_type": "markdown",
   "metadata": {},
   "source": [
    "# 1 -DATA EXPLORATORY\n",
    "===================================="
   ]
  },
  {
   "cell_type": "code",
   "execution_count": 30,
   "metadata": {},
   "outputs": [],
   "source": [
    "searches = pd.read_csv ('searches.csv', sep = '^', nrows = 100000)"
   ]
  },
  {
   "cell_type": "code",
   "execution_count": 31,
   "metadata": {},
   "outputs": [
    {
     "data": {
      "text/plain": [
       "['Date',\n",
       " 'Time',\n",
       " 'TxnCode',\n",
       " 'OfficeID',\n",
       " 'Country',\n",
       " 'Origin',\n",
       " 'Destination',\n",
       " 'RoundTrip',\n",
       " 'NbSegments',\n",
       " 'Seg1Departure',\n",
       " 'Seg1Arrival',\n",
       " 'Seg1Date',\n",
       " 'Seg1Carrier',\n",
       " 'Seg1BookingCode',\n",
       " 'Seg2Departure',\n",
       " 'Seg2Arrival',\n",
       " 'Seg2Date',\n",
       " 'Seg2Carrier',\n",
       " 'Seg2BookingCode',\n",
       " 'Seg3Departure',\n",
       " 'Seg3Arrival',\n",
       " 'Seg3Date',\n",
       " 'Seg3Carrier',\n",
       " 'Seg3BookingCode',\n",
       " 'Seg4Departure',\n",
       " 'Seg4Arrival',\n",
       " 'Seg4Date',\n",
       " 'Seg4Carrier',\n",
       " 'Seg4BookingCode',\n",
       " 'Seg5Departure',\n",
       " 'Seg5Arrival',\n",
       " 'Seg5Date',\n",
       " 'Seg5Carrier',\n",
       " 'Seg5BookingCode',\n",
       " 'Seg6Departure',\n",
       " 'Seg6Arrival',\n",
       " 'Seg6Date',\n",
       " 'Seg6Carrier',\n",
       " 'Seg6BookingCode',\n",
       " 'From',\n",
       " 'IsPublishedForNeg',\n",
       " 'IsFromInternet',\n",
       " 'IsFromVista',\n",
       " 'TerminalID',\n",
       " 'InternetOffice']"
      ]
     },
     "execution_count": 31,
     "metadata": {},
     "output_type": "execute_result"
    }
   ],
   "source": [
    "\n",
    "searches.columns.tolist()"
   ]
  },
  {
   "cell_type": "code",
   "execution_count": 7,
   "metadata": {},
   "outputs": [
    {
     "data": {
      "text/plain": [
       "Date                   0\n",
       "Time                   0\n",
       "TxnCode                0\n",
       "OfficeID               0\n",
       "Country                0\n",
       "Origin                 0\n",
       "Destination            0\n",
       "RoundTrip              0\n",
       "NbSegments             0\n",
       "Seg1Departure          0\n",
       "Seg1Arrival            0\n",
       "Seg1Date               4\n",
       "Seg1Carrier          626\n",
       "Seg1BookingCode      920\n",
       "Seg2Departure        288\n",
       "Seg2Arrival          288\n",
       "Seg2Date             292\n",
       "Seg2Carrier          741\n",
       "Seg2BookingCode      934\n",
       "Seg3Departure        964\n",
       "Seg3Arrival          964\n",
       "Seg3Date             964\n",
       "Seg3Carrier          964\n",
       "Seg3BookingCode      965\n",
       "Seg4Departure        970\n",
       "Seg4Arrival          970\n",
       "Seg4Date             970\n",
       "Seg4Carrier          970\n",
       "Seg4BookingCode      971\n",
       "Seg5Departure        995\n",
       "Seg5Arrival          995\n",
       "Seg5Date             995\n",
       "Seg5Carrier          995\n",
       "Seg5BookingCode      995\n",
       "Seg6Departure        997\n",
       "Seg6Arrival          997\n",
       "Seg6Date             997\n",
       "Seg6Carrier          997\n",
       "Seg6BookingCode      997\n",
       "From                  11\n",
       "IsPublishedForNeg      0\n",
       "IsFromInternet         0\n",
       "IsFromVista            0\n",
       "TerminalID             0\n",
       "InternetOffice         0\n",
       "dtype: int64"
      ]
     },
     "execution_count": 7,
     "metadata": {},
     "output_type": "execute_result"
    }
   ],
   "source": [
    "searches.isnull().sum()"
   ]
  },
  {
   "cell_type": "code",
   "execution_count": 32,
   "metadata": {},
   "outputs": [
    {
     "data": {
      "text/html": [
       "<div>\n",
       "<style scoped>\n",
       "    .dataframe tbody tr th:only-of-type {\n",
       "        vertical-align: middle;\n",
       "    }\n",
       "\n",
       "    .dataframe tbody tr th {\n",
       "        vertical-align: top;\n",
       "    }\n",
       "\n",
       "    .dataframe thead th {\n",
       "        text-align: right;\n",
       "    }\n",
       "</style>\n",
       "<table border=\"1\" class=\"dataframe\">\n",
       "  <thead>\n",
       "    <tr style=\"text-align: right;\">\n",
       "      <th></th>\n",
       "      <th>Date</th>\n",
       "      <th>Time</th>\n",
       "      <th>TxnCode</th>\n",
       "      <th>OfficeID</th>\n",
       "      <th>Country</th>\n",
       "      <th>Origin</th>\n",
       "      <th>Destination</th>\n",
       "      <th>RoundTrip</th>\n",
       "      <th>NbSegments</th>\n",
       "      <th>Seg1Departure</th>\n",
       "      <th>...</th>\n",
       "      <th>Seg6Arrival</th>\n",
       "      <th>Seg6Date</th>\n",
       "      <th>Seg6Carrier</th>\n",
       "      <th>Seg6BookingCode</th>\n",
       "      <th>From</th>\n",
       "      <th>IsPublishedForNeg</th>\n",
       "      <th>IsFromInternet</th>\n",
       "      <th>IsFromVista</th>\n",
       "      <th>TerminalID</th>\n",
       "      <th>InternetOffice</th>\n",
       "    </tr>\n",
       "  </thead>\n",
       "  <tbody>\n",
       "    <tr>\n",
       "      <th>0</th>\n",
       "      <td>2013-01-01</td>\n",
       "      <td>20:25:57</td>\n",
       "      <td>MPT</td>\n",
       "      <td>624d8c3ac0b3a7ca03e3c167e0f48327</td>\n",
       "      <td>DE</td>\n",
       "      <td>TXL</td>\n",
       "      <td>AUH</td>\n",
       "      <td>1</td>\n",
       "      <td>2</td>\n",
       "      <td>TXL</td>\n",
       "      <td>...</td>\n",
       "      <td>NaN</td>\n",
       "      <td>NaN</td>\n",
       "      <td>NaN</td>\n",
       "      <td>NaN</td>\n",
       "      <td>1ASIWS</td>\n",
       "      <td>0</td>\n",
       "      <td>0</td>\n",
       "      <td>0</td>\n",
       "      <td>d41d8cd98f00b204e9800998ecf8427e</td>\n",
       "      <td>FRA</td>\n",
       "    </tr>\n",
       "    <tr>\n",
       "      <th>1</th>\n",
       "      <td>2013-01-01</td>\n",
       "      <td>10:15:33</td>\n",
       "      <td>MPT</td>\n",
       "      <td>b0af35b31588dc4ab06d5cf2986e8e02</td>\n",
       "      <td>MD</td>\n",
       "      <td>ATH</td>\n",
       "      <td>MIL</td>\n",
       "      <td>0</td>\n",
       "      <td>1</td>\n",
       "      <td>ATH</td>\n",
       "      <td>...</td>\n",
       "      <td>NaN</td>\n",
       "      <td>NaN</td>\n",
       "      <td>NaN</td>\n",
       "      <td>NaN</td>\n",
       "      <td>1ASIWS</td>\n",
       "      <td>0</td>\n",
       "      <td>0</td>\n",
       "      <td>0</td>\n",
       "      <td>d41d8cd98f00b204e9800998ecf8427e</td>\n",
       "      <td>KIV</td>\n",
       "    </tr>\n",
       "    <tr>\n",
       "      <th>2</th>\n",
       "      <td>2013-01-01</td>\n",
       "      <td>18:04:49</td>\n",
       "      <td>MPT</td>\n",
       "      <td>3561a60621de06ab1badc8ca55699ef3</td>\n",
       "      <td>US</td>\n",
       "      <td>ICT</td>\n",
       "      <td>SFO</td>\n",
       "      <td>1</td>\n",
       "      <td>2</td>\n",
       "      <td>ICT</td>\n",
       "      <td>...</td>\n",
       "      <td>NaN</td>\n",
       "      <td>NaN</td>\n",
       "      <td>NaN</td>\n",
       "      <td>NaN</td>\n",
       "      <td>1ASIWS</td>\n",
       "      <td>0</td>\n",
       "      <td>0</td>\n",
       "      <td>0</td>\n",
       "      <td>d41d8cd98f00b204e9800998ecf8427e</td>\n",
       "      <td>NYC</td>\n",
       "    </tr>\n",
       "    <tr>\n",
       "      <th>3</th>\n",
       "      <td>2013-01-01</td>\n",
       "      <td>17:42:40</td>\n",
       "      <td>FXP</td>\n",
       "      <td>1864e5e8013d9414150e91d26b6a558b</td>\n",
       "      <td>SE</td>\n",
       "      <td>RNB</td>\n",
       "      <td>ARN</td>\n",
       "      <td>0</td>\n",
       "      <td>1</td>\n",
       "      <td>RNB</td>\n",
       "      <td>...</td>\n",
       "      <td>NaN</td>\n",
       "      <td>NaN</td>\n",
       "      <td>NaN</td>\n",
       "      <td>NaN</td>\n",
       "      <td>1ASI</td>\n",
       "      <td>0</td>\n",
       "      <td>0</td>\n",
       "      <td>0</td>\n",
       "      <td>d41d8cd98f00b204e9800998ecf8427e</td>\n",
       "      <td>STO</td>\n",
       "    </tr>\n",
       "    <tr>\n",
       "      <th>4</th>\n",
       "      <td>2013-01-01</td>\n",
       "      <td>17:48:29</td>\n",
       "      <td>MPT</td>\n",
       "      <td>1ec336348f44207d2e0027dc3a68c118</td>\n",
       "      <td>NO</td>\n",
       "      <td>OSL</td>\n",
       "      <td>MAD</td>\n",
       "      <td>1</td>\n",
       "      <td>2</td>\n",
       "      <td>OSL</td>\n",
       "      <td>...</td>\n",
       "      <td>NaN</td>\n",
       "      <td>NaN</td>\n",
       "      <td>NaN</td>\n",
       "      <td>NaN</td>\n",
       "      <td>1ASIWS</td>\n",
       "      <td>0</td>\n",
       "      <td>0</td>\n",
       "      <td>0</td>\n",
       "      <td>d41d8cd98f00b204e9800998ecf8427e</td>\n",
       "      <td>OSL</td>\n",
       "    </tr>\n",
       "  </tbody>\n",
       "</table>\n",
       "<p>5 rows × 45 columns</p>\n",
       "</div>"
      ],
      "text/plain": [
       "         Date      Time TxnCode                          OfficeID Country  \\\n",
       "0  2013-01-01  20:25:57     MPT  624d8c3ac0b3a7ca03e3c167e0f48327      DE   \n",
       "1  2013-01-01  10:15:33     MPT  b0af35b31588dc4ab06d5cf2986e8e02      MD   \n",
       "2  2013-01-01  18:04:49     MPT  3561a60621de06ab1badc8ca55699ef3      US   \n",
       "3  2013-01-01  17:42:40     FXP  1864e5e8013d9414150e91d26b6a558b      SE   \n",
       "4  2013-01-01  17:48:29     MPT  1ec336348f44207d2e0027dc3a68c118      NO   \n",
       "\n",
       "  Origin Destination  RoundTrip  NbSegments Seg1Departure  ... Seg6Arrival  \\\n",
       "0    TXL         AUH          1           2           TXL  ...         NaN   \n",
       "1    ATH         MIL          0           1           ATH  ...         NaN   \n",
       "2    ICT         SFO          1           2           ICT  ...         NaN   \n",
       "3    RNB         ARN          0           1           RNB  ...         NaN   \n",
       "4    OSL         MAD          1           2           OSL  ...         NaN   \n",
       "\n",
       "  Seg6Date Seg6Carrier Seg6BookingCode    From IsPublishedForNeg  \\\n",
       "0      NaN         NaN             NaN  1ASIWS                 0   \n",
       "1      NaN         NaN             NaN  1ASIWS                 0   \n",
       "2      NaN         NaN             NaN  1ASIWS                 0   \n",
       "3      NaN         NaN             NaN    1ASI                 0   \n",
       "4      NaN         NaN             NaN  1ASIWS                 0   \n",
       "\n",
       "  IsFromInternet IsFromVista                        TerminalID InternetOffice  \n",
       "0              0           0  d41d8cd98f00b204e9800998ecf8427e            FRA  \n",
       "1              0           0  d41d8cd98f00b204e9800998ecf8427e            KIV  \n",
       "2              0           0  d41d8cd98f00b204e9800998ecf8427e            NYC  \n",
       "3              0           0  d41d8cd98f00b204e9800998ecf8427e            STO  \n",
       "4              0           0  d41d8cd98f00b204e9800998ecf8427e            OSL  \n",
       "\n",
       "[5 rows x 45 columns]"
      ]
     },
     "execution_count": 32,
     "metadata": {},
     "output_type": "execute_result"
    }
   ],
   "source": [
    "searches.head()"
   ]
  },
  {
   "cell_type": "code",
   "execution_count": 33,
   "metadata": {},
   "outputs": [],
   "source": [
    "\n",
    "searches = pd.read_csv ('searches.csv', sep = '^', usecols = ['Destination', 'Date'], nrows = 100000)"
   ]
  },
  {
   "cell_type": "code",
   "execution_count": 34,
   "metadata": {
    "scrolled": true
   },
   "outputs": [
    {
     "data": {
      "text/html": [
       "<div>\n",
       "<style scoped>\n",
       "    .dataframe tbody tr th:only-of-type {\n",
       "        vertical-align: middle;\n",
       "    }\n",
       "\n",
       "    .dataframe tbody tr th {\n",
       "        vertical-align: top;\n",
       "    }\n",
       "\n",
       "    .dataframe thead th {\n",
       "        text-align: right;\n",
       "    }\n",
       "</style>\n",
       "<table border=\"1\" class=\"dataframe\">\n",
       "  <thead>\n",
       "    <tr style=\"text-align: right;\">\n",
       "      <th></th>\n",
       "      <th>Date</th>\n",
       "      <th>Destination</th>\n",
       "    </tr>\n",
       "  </thead>\n",
       "  <tbody>\n",
       "    <tr>\n",
       "      <th>0</th>\n",
       "      <td>2013-01-01</td>\n",
       "      <td>AUH</td>\n",
       "    </tr>\n",
       "    <tr>\n",
       "      <th>1</th>\n",
       "      <td>2013-01-01</td>\n",
       "      <td>MIL</td>\n",
       "    </tr>\n",
       "    <tr>\n",
       "      <th>2</th>\n",
       "      <td>2013-01-01</td>\n",
       "      <td>SFO</td>\n",
       "    </tr>\n",
       "    <tr>\n",
       "      <th>3</th>\n",
       "      <td>2013-01-01</td>\n",
       "      <td>ARN</td>\n",
       "    </tr>\n",
       "    <tr>\n",
       "      <th>4</th>\n",
       "      <td>2013-01-01</td>\n",
       "      <td>MAD</td>\n",
       "    </tr>\n",
       "  </tbody>\n",
       "</table>\n",
       "</div>"
      ],
      "text/plain": [
       "         Date Destination\n",
       "0  2013-01-01         AUH\n",
       "1  2013-01-01         MIL\n",
       "2  2013-01-01         SFO\n",
       "3  2013-01-01         ARN\n",
       "4  2013-01-01         MAD"
      ]
     },
     "execution_count": 34,
     "metadata": {},
     "output_type": "execute_result"
    }
   ],
   "source": [
    "searches.head()"
   ]
  },
  {
   "cell_type": "code",
   "execution_count": 35,
   "metadata": {},
   "outputs": [],
   "source": [
    "\n",
    "searches = searches.dropna()"
   ]
  },
  {
   "cell_type": "markdown",
   "metadata": {},
   "source": [
    "# 2 -DATA NORMALIZATION\n",
    "========================================="
   ]
  },
  {
   "cell_type": "code",
   "execution_count": null,
   "metadata": {},
   "outputs": [],
   "source": []
  },
  {
   "cell_type": "code",
   "execution_count": null,
   "metadata": {},
   "outputs": [],
   "source": []
  },
  {
   "cell_type": "markdown",
   "metadata": {},
   "source": [
    "# 3 - STRATEGY TO FOLLOW\n",
    "=========================================\n",
    "\n",
    "## 3.1 Test in small sample\n",
    "\n",
    "     To know city codes\n",
    "     Get data filtering by MAD , AGP and BCN\n",
    "     Grouping by month\n",
    "     Grouping by airport and month\n",
    "     Sum\n",
    "     Plot\n",
    "     \n",
    "## 3.2 Consolidate the previous process but in \"bigdata\""
   ]
  },
  {
   "cell_type": "code",
   "execution_count": null,
   "metadata": {},
   "outputs": [],
   "source": []
  },
  {
   "cell_type": "code",
   "execution_count": 10,
   "metadata": {},
   "outputs": [],
   "source": [
    "from neobase import NeoBase"
   ]
  },
  {
   "cell_type": "code",
   "execution_count": 11,
   "metadata": {},
   "outputs": [],
   "source": [
    "geo_a = NeoBase()"
   ]
  },
  {
   "cell_type": "code",
   "execution_count": 10,
   "metadata": {},
   "outputs": [
    {
     "name": "stdout",
     "output_type": "stream",
     "text": [
      "<generator object NeoBase.find_with at 0x7fce45c4f5f0>\n"
     ]
    }
   ],
   "source": [
    "madrid_code = geo_a.find_with('Madrid','name')\n",
    "print (madrid_code)"
   ]
  },
  {
   "cell_type": "markdown",
   "metadata": {},
   "source": [
    "## 3.1 Testing steps in small sample\n",
    "\n",
    "### Identify city codes and testing in \"searches\" data"
   ]
  },
  {
   "cell_type": "code",
   "execution_count": 36,
   "metadata": {},
   "outputs": [
    {
     "data": {
      "text/html": [
       "<div>\n",
       "<style scoped>\n",
       "    .dataframe tbody tr th:only-of-type {\n",
       "        vertical-align: middle;\n",
       "    }\n",
       "\n",
       "    .dataframe tbody tr th {\n",
       "        vertical-align: top;\n",
       "    }\n",
       "\n",
       "    .dataframe thead th {\n",
       "        text-align: right;\n",
       "    }\n",
       "</style>\n",
       "<table border=\"1\" class=\"dataframe\">\n",
       "  <thead>\n",
       "    <tr style=\"text-align: right;\">\n",
       "      <th></th>\n",
       "      <th>Date</th>\n",
       "      <th>Destination</th>\n",
       "    </tr>\n",
       "  </thead>\n",
       "  <tbody>\n",
       "    <tr>\n",
       "      <th>4</th>\n",
       "      <td>2013-01-01</td>\n",
       "      <td>MAD</td>\n",
       "    </tr>\n",
       "    <tr>\n",
       "      <th>93</th>\n",
       "      <td>2013-01-01</td>\n",
       "      <td>AGP</td>\n",
       "    </tr>\n",
       "    <tr>\n",
       "      <th>113</th>\n",
       "      <td>2013-01-01</td>\n",
       "      <td>BCN</td>\n",
       "    </tr>\n",
       "    <tr>\n",
       "      <th>147</th>\n",
       "      <td>2013-01-01</td>\n",
       "      <td>AGP</td>\n",
       "    </tr>\n",
       "    <tr>\n",
       "      <th>151</th>\n",
       "      <td>2013-01-01</td>\n",
       "      <td>MAD</td>\n",
       "    </tr>\n",
       "  </tbody>\n",
       "</table>\n",
       "</div>"
      ],
      "text/plain": [
       "           Date Destination\n",
       "4    2013-01-01         MAD\n",
       "93   2013-01-01         AGP\n",
       "113  2013-01-01         BCN\n",
       "147  2013-01-01         AGP\n",
       "151  2013-01-01         MAD"
      ]
     },
     "execution_count": 36,
     "metadata": {},
     "output_type": "execute_result"
    }
   ],
   "source": [
    "searches = searches.loc[searches['Destination'].isin (['MAD', 'BCN', 'AGP'])]\n",
    "searches.head()"
   ]
  },
  {
   "cell_type": "markdown",
   "metadata": {},
   "source": [
    "### Grouping per month"
   ]
  },
  {
   "cell_type": "code",
   "execution_count": 37,
   "metadata": {},
   "outputs": [],
   "source": [
    "searches = pd.read_csv ('searches.csv', sep = '^', usecols = ['Destination', 'Date'], nrows = 100000)\n",
    "searches=searches.dropna()\n",
    "searches= searches[searches['Destination'].isin (['MAD', 'BCN', 'AGP'])]"
   ]
  },
  {
   "cell_type": "code",
   "execution_count": 38,
   "metadata": {},
   "outputs": [
    {
     "data": {
      "text/html": [
       "<div>\n",
       "<style scoped>\n",
       "    .dataframe tbody tr th:only-of-type {\n",
       "        vertical-align: middle;\n",
       "    }\n",
       "\n",
       "    .dataframe tbody tr th {\n",
       "        vertical-align: top;\n",
       "    }\n",
       "\n",
       "    .dataframe thead th {\n",
       "        text-align: right;\n",
       "    }\n",
       "</style>\n",
       "<table border=\"1\" class=\"dataframe\">\n",
       "  <thead>\n",
       "    <tr style=\"text-align: right;\">\n",
       "      <th></th>\n",
       "      <th>Date</th>\n",
       "      <th>Destination</th>\n",
       "    </tr>\n",
       "  </thead>\n",
       "  <tbody>\n",
       "    <tr>\n",
       "      <th>4</th>\n",
       "      <td>2013-01-01</td>\n",
       "      <td>MAD</td>\n",
       "    </tr>\n",
       "    <tr>\n",
       "      <th>93</th>\n",
       "      <td>2013-01-01</td>\n",
       "      <td>AGP</td>\n",
       "    </tr>\n",
       "    <tr>\n",
       "      <th>113</th>\n",
       "      <td>2013-01-01</td>\n",
       "      <td>BCN</td>\n",
       "    </tr>\n",
       "    <tr>\n",
       "      <th>147</th>\n",
       "      <td>2013-01-01</td>\n",
       "      <td>AGP</td>\n",
       "    </tr>\n",
       "    <tr>\n",
       "      <th>151</th>\n",
       "      <td>2013-01-01</td>\n",
       "      <td>MAD</td>\n",
       "    </tr>\n",
       "  </tbody>\n",
       "</table>\n",
       "</div>"
      ],
      "text/plain": [
       "           Date Destination\n",
       "4    2013-01-01         MAD\n",
       "93   2013-01-01         AGP\n",
       "113  2013-01-01         BCN\n",
       "147  2013-01-01         AGP\n",
       "151  2013-01-01         MAD"
      ]
     },
     "execution_count": 38,
     "metadata": {},
     "output_type": "execute_result"
    }
   ],
   "source": [
    "searches.head()"
   ]
  },
  {
   "cell_type": "code",
   "execution_count": 39,
   "metadata": {},
   "outputs": [],
   "source": [
    "searches['Year-Month']=searches['Date'].str[0:7]"
   ]
  },
  {
   "cell_type": "code",
   "execution_count": 40,
   "metadata": {},
   "outputs": [
    {
     "data": {
      "text/html": [
       "<div>\n",
       "<style scoped>\n",
       "    .dataframe tbody tr th:only-of-type {\n",
       "        vertical-align: middle;\n",
       "    }\n",
       "\n",
       "    .dataframe tbody tr th {\n",
       "        vertical-align: top;\n",
       "    }\n",
       "\n",
       "    .dataframe thead th {\n",
       "        text-align: right;\n",
       "    }\n",
       "</style>\n",
       "<table border=\"1\" class=\"dataframe\">\n",
       "  <thead>\n",
       "    <tr style=\"text-align: right;\">\n",
       "      <th></th>\n",
       "      <th>Date</th>\n",
       "      <th>Destination</th>\n",
       "      <th>Year-Month</th>\n",
       "    </tr>\n",
       "  </thead>\n",
       "  <tbody>\n",
       "    <tr>\n",
       "      <th>4</th>\n",
       "      <td>2013-01-01</td>\n",
       "      <td>MAD</td>\n",
       "      <td>2013-01</td>\n",
       "    </tr>\n",
       "    <tr>\n",
       "      <th>93</th>\n",
       "      <td>2013-01-01</td>\n",
       "      <td>AGP</td>\n",
       "      <td>2013-01</td>\n",
       "    </tr>\n",
       "    <tr>\n",
       "      <th>113</th>\n",
       "      <td>2013-01-01</td>\n",
       "      <td>BCN</td>\n",
       "      <td>2013-01</td>\n",
       "    </tr>\n",
       "    <tr>\n",
       "      <th>147</th>\n",
       "      <td>2013-01-01</td>\n",
       "      <td>AGP</td>\n",
       "      <td>2013-01</td>\n",
       "    </tr>\n",
       "    <tr>\n",
       "      <th>151</th>\n",
       "      <td>2013-01-01</td>\n",
       "      <td>MAD</td>\n",
       "      <td>2013-01</td>\n",
       "    </tr>\n",
       "  </tbody>\n",
       "</table>\n",
       "</div>"
      ],
      "text/plain": [
       "           Date Destination Year-Month\n",
       "4    2013-01-01         MAD    2013-01\n",
       "93   2013-01-01         AGP    2013-01\n",
       "113  2013-01-01         BCN    2013-01\n",
       "147  2013-01-01         AGP    2013-01\n",
       "151  2013-01-01         MAD    2013-01"
      ]
     },
     "execution_count": 40,
     "metadata": {},
     "output_type": "execute_result"
    }
   ],
   "source": [
    "searches.head()"
   ]
  },
  {
   "cell_type": "code",
   "execution_count": 41,
   "metadata": {},
   "outputs": [
    {
     "data": {
      "text/html": [
       "<div>\n",
       "<style scoped>\n",
       "    .dataframe tbody tr th:only-of-type {\n",
       "        vertical-align: middle;\n",
       "    }\n",
       "\n",
       "    .dataframe tbody tr th {\n",
       "        vertical-align: top;\n",
       "    }\n",
       "\n",
       "    .dataframe thead th {\n",
       "        text-align: right;\n",
       "    }\n",
       "</style>\n",
       "<table border=\"1\" class=\"dataframe\">\n",
       "  <thead>\n",
       "    <tr style=\"text-align: right;\">\n",
       "      <th></th>\n",
       "      <th>Destination</th>\n",
       "      <th>Year-Month</th>\n",
       "    </tr>\n",
       "  </thead>\n",
       "  <tbody>\n",
       "    <tr>\n",
       "      <th>4</th>\n",
       "      <td>MAD</td>\n",
       "      <td>2013-01</td>\n",
       "    </tr>\n",
       "    <tr>\n",
       "      <th>93</th>\n",
       "      <td>AGP</td>\n",
       "      <td>2013-01</td>\n",
       "    </tr>\n",
       "    <tr>\n",
       "      <th>113</th>\n",
       "      <td>BCN</td>\n",
       "      <td>2013-01</td>\n",
       "    </tr>\n",
       "    <tr>\n",
       "      <th>147</th>\n",
       "      <td>AGP</td>\n",
       "      <td>2013-01</td>\n",
       "    </tr>\n",
       "    <tr>\n",
       "      <th>151</th>\n",
       "      <td>MAD</td>\n",
       "      <td>2013-01</td>\n",
       "    </tr>\n",
       "  </tbody>\n",
       "</table>\n",
       "</div>"
      ],
      "text/plain": [
       "    Destination Year-Month\n",
       "4           MAD    2013-01\n",
       "93          AGP    2013-01\n",
       "113         BCN    2013-01\n",
       "147         AGP    2013-01\n",
       "151         MAD    2013-01"
      ]
     },
     "execution_count": 41,
     "metadata": {},
     "output_type": "execute_result"
    }
   ],
   "source": [
    "searches.drop('Date', axis = 1, inplace = True)\n",
    "searches.head()"
   ]
  },
  {
   "cell_type": "code",
   "execution_count": 42,
   "metadata": {},
   "outputs": [],
   "source": [
    "searches['Destination'] = searches ['Destination'].str.strip()\n"
   ]
  },
  {
   "cell_type": "code",
   "execution_count": 43,
   "metadata": {},
   "outputs": [],
   "source": [
    "searches = pd.read_csv ('searches.csv', sep = '^', usecols = ['Destination', 'Date'], nrows = 100000)\n",
    "searches=searches.dropna()\n",
    "searchFilter= searches[searches['Destination'].isin (['MAD', 'BCN', 'AGP'])].copy()\n",
    "searchFilter['Year-Month']=searchFilter['Date'].str[0:7]\n",
    "searchFilter.drop('Date', axis = 1, inplace = True)"
   ]
  },
  {
   "cell_type": "code",
   "execution_count": 20,
   "metadata": {},
   "outputs": [
    {
     "data": {
      "text/html": [
       "<div>\n",
       "<style scoped>\n",
       "    .dataframe tbody tr th:only-of-type {\n",
       "        vertical-align: middle;\n",
       "    }\n",
       "\n",
       "    .dataframe tbody tr th {\n",
       "        vertical-align: top;\n",
       "    }\n",
       "\n",
       "    .dataframe thead th {\n",
       "        text-align: right;\n",
       "    }\n",
       "</style>\n",
       "<table border=\"1\" class=\"dataframe\">\n",
       "  <thead>\n",
       "    <tr style=\"text-align: right;\">\n",
       "      <th></th>\n",
       "      <th>Destination</th>\n",
       "      <th>Year-Month</th>\n",
       "    </tr>\n",
       "  </thead>\n",
       "  <tbody>\n",
       "    <tr>\n",
       "      <th>4</th>\n",
       "      <td>MAD</td>\n",
       "      <td>2013-01</td>\n",
       "    </tr>\n",
       "    <tr>\n",
       "      <th>93</th>\n",
       "      <td>AGP</td>\n",
       "      <td>2013-01</td>\n",
       "    </tr>\n",
       "    <tr>\n",
       "      <th>113</th>\n",
       "      <td>BCN</td>\n",
       "      <td>2013-01</td>\n",
       "    </tr>\n",
       "    <tr>\n",
       "      <th>147</th>\n",
       "      <td>AGP</td>\n",
       "      <td>2013-01</td>\n",
       "    </tr>\n",
       "    <tr>\n",
       "      <th>151</th>\n",
       "      <td>MAD</td>\n",
       "      <td>2013-01</td>\n",
       "    </tr>\n",
       "  </tbody>\n",
       "</table>\n",
       "</div>"
      ],
      "text/plain": [
       "    Destination Year-Month\n",
       "4           MAD    2013-01\n",
       "93          AGP    2013-01\n",
       "113         BCN    2013-01\n",
       "147         AGP    2013-01\n",
       "151         MAD    2013-01"
      ]
     },
     "execution_count": 20,
     "metadata": {},
     "output_type": "execute_result"
    }
   ],
   "source": [
    "searchFilter.head()\n"
   ]
  },
  {
   "cell_type": "code",
   "execution_count": 56,
   "metadata": {},
   "outputs": [],
   "source": [
    "searches = pd.read_csv ('searches.csv', sep = '^', usecols = ['Destination', 'Date'], nrows = 100)\n",
    "searches=searches.dropna()\n",
    "searchFilter= searches[searches['Destination'].isin (['MAD', 'BCN', 'AGP'])].copy()\n",
    "searchFilter['Year-Month']=searchFilter['Date'].str[0:7]\n",
    "searchFilter.drop('Date', axis = 1, inplace = True)\n",
    "searchFilter_gr= searchFilter.groupby(['Year-Month', 'Destination'])"
   ]
  },
  {
   "cell_type": "code",
   "execution_count": 57,
   "metadata": {},
   "outputs": [
    {
     "data": {
      "text/plain": [
       "{('2013-01', 'AGP'): [93], ('2013-01', 'MAD'): [4]}"
      ]
     },
     "execution_count": 57,
     "metadata": {},
     "output_type": "execute_result"
    }
   ],
   "source": [
    "searchFilter_gr.groups"
   ]
  },
  {
   "cell_type": "code",
   "execution_count": 69,
   "metadata": {},
   "outputs": [],
   "source": [
    "\n",
    "searches = pd.read_csv ('searches.csv', sep = '^', usecols = ['Destination', 'Date'], nrows = 100000)\n",
    "searches=searches.dropna()\n",
    "searchFilter= searches[searches['Destination'].isin (['MAD', 'BCN', 'AGP'])].copy()\n",
    "searchFilter['Year-Month']=searchFilter['Date'].str[0:7]\n",
    "searchFilter.drop('Date', axis = 1, inplace = True)\n",
    "searchFilter_gr= searchFilter.reset_index().groupby(['Year-Month', 'Destination']).count().reset_index()"
   ]
  },
  {
   "cell_type": "code",
   "execution_count": 70,
   "metadata": {},
   "outputs": [
    {
     "data": {
      "text/html": [
       "<div>\n",
       "<style scoped>\n",
       "    .dataframe tbody tr th:only-of-type {\n",
       "        vertical-align: middle;\n",
       "    }\n",
       "\n",
       "    .dataframe tbody tr th {\n",
       "        vertical-align: top;\n",
       "    }\n",
       "\n",
       "    .dataframe thead th {\n",
       "        text-align: right;\n",
       "    }\n",
       "</style>\n",
       "<table border=\"1\" class=\"dataframe\">\n",
       "  <thead>\n",
       "    <tr style=\"text-align: right;\">\n",
       "      <th></th>\n",
       "      <th>Year-Month</th>\n",
       "      <th>Destination</th>\n",
       "      <th>index</th>\n",
       "    </tr>\n",
       "  </thead>\n",
       "  <tbody>\n",
       "    <tr>\n",
       "      <th>0</th>\n",
       "      <td>2013-01</td>\n",
       "      <td>AGP</td>\n",
       "      <td>169</td>\n",
       "    </tr>\n",
       "    <tr>\n",
       "      <th>1</th>\n",
       "      <td>2013-01</td>\n",
       "      <td>BCN</td>\n",
       "      <td>517</td>\n",
       "    </tr>\n",
       "    <tr>\n",
       "      <th>2</th>\n",
       "      <td>2013-01</td>\n",
       "      <td>MAD</td>\n",
       "      <td>425</td>\n",
       "    </tr>\n",
       "    <tr>\n",
       "      <th>3</th>\n",
       "      <td>2013-02</td>\n",
       "      <td>AGP</td>\n",
       "      <td>147</td>\n",
       "    </tr>\n",
       "    <tr>\n",
       "      <th>4</th>\n",
       "      <td>2013-02</td>\n",
       "      <td>BCN</td>\n",
       "      <td>497</td>\n",
       "    </tr>\n",
       "  </tbody>\n",
       "</table>\n",
       "</div>"
      ],
      "text/plain": [
       "  Year-Month Destination  index\n",
       "0    2013-01         AGP    169\n",
       "1    2013-01         BCN    517\n",
       "2    2013-01         MAD    425\n",
       "3    2013-02         AGP    147\n",
       "4    2013-02         BCN    497"
      ]
     },
     "execution_count": 70,
     "metadata": {},
     "output_type": "execute_result"
    }
   ],
   "source": [
    "searchFilter_gr.head()"
   ]
  },
  {
   "cell_type": "code",
   "execution_count": 47,
   "metadata": {},
   "outputs": [],
   "source": [
    "searchFilter_gr.rename (columns = {'index' : 'Num_Searches'}, inplace = True)"
   ]
  },
  {
   "cell_type": "code",
   "execution_count": 48,
   "metadata": {
    "scrolled": true
   },
   "outputs": [
    {
     "data": {
      "text/html": [
       "<div>\n",
       "<style scoped>\n",
       "    .dataframe tbody tr th:only-of-type {\n",
       "        vertical-align: middle;\n",
       "    }\n",
       "\n",
       "    .dataframe tbody tr th {\n",
       "        vertical-align: top;\n",
       "    }\n",
       "\n",
       "    .dataframe thead th {\n",
       "        text-align: right;\n",
       "    }\n",
       "</style>\n",
       "<table border=\"1\" class=\"dataframe\">\n",
       "  <thead>\n",
       "    <tr style=\"text-align: right;\">\n",
       "      <th></th>\n",
       "      <th>Year-Month</th>\n",
       "      <th>Destination</th>\n",
       "      <th>Num_Searches</th>\n",
       "    </tr>\n",
       "  </thead>\n",
       "  <tbody>\n",
       "    <tr>\n",
       "      <th>0</th>\n",
       "      <td>2013-01</td>\n",
       "      <td>AGP</td>\n",
       "      <td>169</td>\n",
       "    </tr>\n",
       "    <tr>\n",
       "      <th>1</th>\n",
       "      <td>2013-01</td>\n",
       "      <td>BCN</td>\n",
       "      <td>517</td>\n",
       "    </tr>\n",
       "    <tr>\n",
       "      <th>2</th>\n",
       "      <td>2013-01</td>\n",
       "      <td>MAD</td>\n",
       "      <td>425</td>\n",
       "    </tr>\n",
       "    <tr>\n",
       "      <th>3</th>\n",
       "      <td>2013-02</td>\n",
       "      <td>AGP</td>\n",
       "      <td>147</td>\n",
       "    </tr>\n",
       "    <tr>\n",
       "      <th>4</th>\n",
       "      <td>2013-02</td>\n",
       "      <td>BCN</td>\n",
       "      <td>497</td>\n",
       "    </tr>\n",
       "  </tbody>\n",
       "</table>\n",
       "</div>"
      ],
      "text/plain": [
       "  Year-Month Destination  Num_Searches\n",
       "0    2013-01         AGP           169\n",
       "1    2013-01         BCN           517\n",
       "2    2013-01         MAD           425\n",
       "3    2013-02         AGP           147\n",
       "4    2013-02         BCN           497"
      ]
     },
     "execution_count": 48,
     "metadata": {},
     "output_type": "execute_result"
    }
   ],
   "source": [
    "searchFilter_gr.head()"
   ]
  },
  {
   "cell_type": "markdown",
   "metadata": {},
   "source": [
    "Quick check plotting a sample using %pylab, just testing, without need to import numpy+matplotlib yet"
   ]
  },
  {
   "cell_type": "code",
   "execution_count": 49,
   "metadata": {},
   "outputs": [
    {
     "name": "stdout",
     "output_type": "stream",
     "text": [
      "Populating the interactive namespace from numpy and matplotlib\n"
     ]
    }
   ],
   "source": [
    "%pylab inline"
   ]
  },
  {
   "cell_type": "code",
   "execution_count": 50,
   "metadata": {},
   "outputs": [],
   "source": [
    "df_tst=searchFilter_gr.pivot('Year-Month', 'Destination', 'Num_Searches')"
   ]
  },
  {
   "cell_type": "code",
   "execution_count": 51,
   "metadata": {},
   "outputs": [
    {
     "data": {
      "text/html": [
       "<div>\n",
       "<style scoped>\n",
       "    .dataframe tbody tr th:only-of-type {\n",
       "        vertical-align: middle;\n",
       "    }\n",
       "\n",
       "    .dataframe tbody tr th {\n",
       "        vertical-align: top;\n",
       "    }\n",
       "\n",
       "    .dataframe thead th {\n",
       "        text-align: right;\n",
       "    }\n",
       "</style>\n",
       "<table border=\"1\" class=\"dataframe\">\n",
       "  <thead>\n",
       "    <tr style=\"text-align: right;\">\n",
       "      <th>Destination</th>\n",
       "      <th>AGP</th>\n",
       "      <th>BCN</th>\n",
       "      <th>MAD</th>\n",
       "    </tr>\n",
       "    <tr>\n",
       "      <th>Year-Month</th>\n",
       "      <th></th>\n",
       "      <th></th>\n",
       "      <th></th>\n",
       "    </tr>\n",
       "  </thead>\n",
       "  <tbody>\n",
       "    <tr>\n",
       "      <th>2013-01</th>\n",
       "      <td>169</td>\n",
       "      <td>517</td>\n",
       "      <td>425</td>\n",
       "    </tr>\n",
       "    <tr>\n",
       "      <th>2013-02</th>\n",
       "      <td>147</td>\n",
       "      <td>497</td>\n",
       "      <td>400</td>\n",
       "    </tr>\n",
       "    <tr>\n",
       "      <th>2013-03</th>\n",
       "      <td>187</td>\n",
       "      <td>536</td>\n",
       "      <td>433</td>\n",
       "    </tr>\n",
       "    <tr>\n",
       "      <th>2013-04</th>\n",
       "      <td>31</td>\n",
       "      <td>174</td>\n",
       "      <td>147</td>\n",
       "    </tr>\n",
       "  </tbody>\n",
       "</table>\n",
       "</div>"
      ],
      "text/plain": [
       "Destination  AGP  BCN  MAD\n",
       "Year-Month                \n",
       "2013-01      169  517  425\n",
       "2013-02      147  497  400\n",
       "2013-03      187  536  433\n",
       "2013-04       31  174  147"
      ]
     },
     "execution_count": 51,
     "metadata": {},
     "output_type": "execute_result"
    }
   ],
   "source": [
    "df_tst.head()"
   ]
  },
  {
   "cell_type": "code",
   "execution_count": 52,
   "metadata": {},
   "outputs": [
    {
     "data": {
      "text/plain": [
       "<AxesSubplot:xlabel='Year-Month'>"
      ]
     },
     "execution_count": 52,
     "metadata": {},
     "output_type": "execute_result"
    },
    {
     "data": {
      "image/png": "[encoded data removed]",
      "text/plain": [
       "<Figure size 432x288 with 1 Axes>"
      ]
     },
     "metadata": {
      "needs_background": "light"
     },
     "output_type": "display_data"
    }
   ],
   "source": [
    "df_tst.plot(grid= True)"
   ]
  },
  {
   "cell_type": "code",
   "execution_count": 53,
   "metadata": {},
   "outputs": [
    {
     "data": {
      "text/plain": [
       "<AxesSubplot:xlabel='Year-Month'>"
      ]
     },
     "execution_count": 53,
     "metadata": {},
     "output_type": "execute_result"
    },
    {
     "data": {
      "image/png": "[encoded data removed]",
      "text/plain": [
       "<Figure size 432x288 with 1 Axes>"
      ]
     },
     "metadata": {
      "needs_background": "light"
     },
     "output_type": "display_data"
    }
   ],
   "source": [
    "df_tst.plot(grid= True, legend = True)"
   ]
  },
  {
   "cell_type": "markdown",
   "metadata": {},
   "source": [
    "## 3.2 Consolidate the previous process but in \"bigdata\""
   ]
  },
  {
   "cell_type": "markdown",
   "metadata": {},
   "source": [
    "Chunk test"
   ]
  },
  {
   "cell_type": "code",
   "execution_count": 78,
   "metadata": {},
   "outputs": [
    {
     "name": "stdout",
     "output_type": "stream",
     "text": [
      "Chunk: 1, size of chunk 600000\n",
      "Chunk: 2, size of chunk 600000\n",
      "Chunk: 3, size of chunk 600000\n",
      "Chunk: 4, size of chunk 600000\n",
      "Chunk: 5, size of chunk 600000\n",
      "Chunk: 6, size of chunk 600000\n",
      "Chunk: 7, size of chunk 600000\n",
      "Chunk: 8, size of chunk 600000\n",
      "Chunk: 9, size of chunk 600000\n",
      "Chunk: 10, size of chunk 600000\n",
      "Chunk: 11, size of chunk 600000\n",
      "Chunk: 12, size of chunk 600000\n",
      "Chunk: 13, size of chunk 600000\n",
      "Chunk: 14, size of chunk 600000\n",
      "Chunk: 15, size of chunk 600000\n",
      "Chunk: 16, size of chunk 600000\n",
      "Chunk: 17, size of chunk 600000\n",
      "Chunk: 18, size of chunk 600000\n",
      "Chunk: 19, size of chunk 600000\n",
      "Chunk: 20, size of chunk 600000\n",
      "Chunk: 21, size of chunk 600000\n",
      "Chunk: 22, size of chunk 600000\n",
      "Chunk: 23, size of chunk 600000\n",
      "Chunk: 24, size of chunk 600000\n",
      "Chunk: 25, size of chunk 600000\n",
      "Chunk: 26, size of chunk 600000\n",
      "Chunk: 27, size of chunk 600000\n",
      "Chunk: 28, size of chunk 600000\n",
      "Chunk: 29, size of chunk 600000\n",
      "Chunk: 30, size of chunk 600000\n",
      "Chunk: 31, size of chunk 600000\n",
      "Chunk: 32, size of chunk 600000\n",
      "Chunk: 33, size of chunk 600000\n",
      "Chunk: 34, size of chunk 590198\n"
     ]
    },
    {
     "data": {
      "text/html": [
       "<div>\n",
       "<style scoped>\n",
       "    .dataframe tbody tr th:only-of-type {\n",
       "        vertical-align: middle;\n",
       "    }\n",
       "\n",
       "    .dataframe tbody tr th {\n",
       "        vertical-align: top;\n",
       "    }\n",
       "\n",
       "    .dataframe thead th {\n",
       "        text-align: right;\n",
       "    }\n",
       "</style>\n",
       "<table border=\"1\" class=\"dataframe\">\n",
       "  <thead>\n",
       "    <tr style=\"text-align: right;\">\n",
       "      <th></th>\n",
       "      <th>Year-Month</th>\n",
       "      <th>Destination</th>\n",
       "      <th>index</th>\n",
       "    </tr>\n",
       "  </thead>\n",
       "  <tbody>\n",
       "    <tr>\n",
       "      <th>0</th>\n",
       "      <td>2013-01</td>\n",
       "      <td>AGP</td>\n",
       "      <td>169</td>\n",
       "    </tr>\n",
       "    <tr>\n",
       "      <th>1</th>\n",
       "      <td>2013-01</td>\n",
       "      <td>BCN</td>\n",
       "      <td>517</td>\n",
       "    </tr>\n",
       "    <tr>\n",
       "      <th>2</th>\n",
       "      <td>2013-01</td>\n",
       "      <td>MAD</td>\n",
       "      <td>425</td>\n",
       "    </tr>\n",
       "    <tr>\n",
       "      <th>3</th>\n",
       "      <td>2013-02</td>\n",
       "      <td>AGP</td>\n",
       "      <td>168</td>\n",
       "    </tr>\n",
       "    <tr>\n",
       "      <th>4</th>\n",
       "      <td>2013-02</td>\n",
       "      <td>BCN</td>\n",
       "      <td>578</td>\n",
       "    </tr>\n",
       "  </tbody>\n",
       "</table>\n",
       "</div>"
      ],
      "text/plain": [
       "  Year-Month Destination  index\n",
       "0    2013-01         AGP    169\n",
       "1    2013-01         BCN    517\n",
       "2    2013-01         MAD    425\n",
       "3    2013-02         AGP    168\n",
       "4    2013-02         BCN    578"
      ]
     },
     "execution_count": 78,
     "metadata": {},
     "output_type": "execute_result"
    }
   ],
   "source": [
    "searches = pd.read_csv ('searches.csv', sep = '^', usecols = ['Destination', 'Date'],\\\n",
    "                 chunksize= 600000)\n",
    "\n",
    "results = pd.DataFrame()\n",
    "\n",
    "for i, chunk in enumerate (searches):\n",
    "    print (\"Chunk: %d, size of chunk %d\"%(i+1, len(chunk)))\n",
    "    searches= chunk.dropna()\n",
    "    searchFilter= searches[searches['Destination'].isin (['MAD', 'BCN', 'AGP'])].copy()\n",
    "    searchFilter['Year-Month']=searchFilter['Date'].str[0:7]\n",
    "    searchFilter.drop('Date', axis = 1, inplace = True)\n",
    "    searchFilter_gr= searchFilter.reset_index().groupby(['Year-Month', 'Destination']).count().reset_index()\n",
    "    results=all_results.append(searchFilter_gr)\n",
    "searchFilter_gr.head()"
   ]
  },
  {
   "cell_type": "code",
   "execution_count": 79,
   "metadata": {},
   "outputs": [],
   "source": [
    "results_gr = all_results.groupby(['Year-Month', 'Destination']).sum().reset_index()"
   ]
  },
  {
   "cell_type": "code",
   "execution_count": 80,
   "metadata": {},
   "outputs": [
    {
     "data": {
      "text/html": [
       "<div>\n",
       "<style scoped>\n",
       "    .dataframe tbody tr th:only-of-type {\n",
       "        vertical-align: middle;\n",
       "    }\n",
       "\n",
       "    .dataframe tbody tr th {\n",
       "        vertical-align: top;\n",
       "    }\n",
       "\n",
       "    .dataframe thead th {\n",
       "        text-align: right;\n",
       "    }\n",
       "</style>\n",
       "<table border=\"1\" class=\"dataframe\">\n",
       "  <thead>\n",
       "    <tr style=\"text-align: right;\">\n",
       "      <th></th>\n",
       "      <th>Year-Month</th>\n",
       "      <th>Destination</th>\n",
       "      <th>index</th>\n",
       "    </tr>\n",
       "  </thead>\n",
       "  <tbody>\n",
       "    <tr>\n",
       "      <th>0</th>\n",
       "      <td>2013-01</td>\n",
       "      <td>AGP</td>\n",
       "      <td>9633</td>\n",
       "    </tr>\n",
       "    <tr>\n",
       "      <th>1</th>\n",
       "      <td>2013-01</td>\n",
       "      <td>BCN</td>\n",
       "      <td>29469</td>\n",
       "    </tr>\n",
       "    <tr>\n",
       "      <th>2</th>\n",
       "      <td>2013-01</td>\n",
       "      <td>MAD</td>\n",
       "      <td>24258</td>\n",
       "    </tr>\n",
       "    <tr>\n",
       "      <th>3</th>\n",
       "      <td>2013-02</td>\n",
       "      <td>AGP</td>\n",
       "      <td>8379</td>\n",
       "    </tr>\n",
       "    <tr>\n",
       "      <th>4</th>\n",
       "      <td>2013-02</td>\n",
       "      <td>BCN</td>\n",
       "      <td>28329</td>\n",
       "    </tr>\n",
       "  </tbody>\n",
       "</table>\n",
       "</div>"
      ],
      "text/plain": [
       "  Year-Month Destination  index\n",
       "0    2013-01         AGP   9633\n",
       "1    2013-01         BCN  29469\n",
       "2    2013-01         MAD  24258\n",
       "3    2013-02         AGP   8379\n",
       "4    2013-02         BCN  28329"
      ]
     },
     "execution_count": 80,
     "metadata": {},
     "output_type": "execute_result"
    }
   ],
   "source": [
    "results_gr.head()"
   ]
  },
  {
   "cell_type": "code",
   "execution_count": 81,
   "metadata": {},
   "outputs": [],
   "source": [
    "import seaborn as sns"
   ]
  },
  {
   "cell_type": "code",
   "execution_count": 82,
   "metadata": {},
   "outputs": [],
   "source": [
    "results_gr.rename (columns = {'index': 'Num_Searches'}, inplace=True)"
   ]
  },
  {
   "cell_type": "code",
   "execution_count": 88,
   "metadata": {},
   "outputs": [
    {
     "data": {
      "text/plain": [
       "Text(0.5, 1.0, 'Monthly searches for flights arriving at Malaga, Madrid and Barcelona')"
      ]
     },
     "execution_count": 88,
     "metadata": {},
     "output_type": "execute_result"
    },
    {
     "data": {
      "image/png": "[encoded data removed]",
      "text/plain": [
       "<Figure size 576x396 with 1 Axes>"
      ]
     },
     "metadata": {},
     "output_type": "display_data"
    }
   ],
   "source": [
    "\n",
    "ax=sns.pointplot (x= 'Year-Month', y= 'Num_Searches', hue='Destination' ,data=results_gr)\n",
    "ax.set(xlabel ='Month', ylabel='Number of Searches');\n",
    "ax.figure.savefig('output.png')\n",
    "ax.set_title(\"Monthly searches for flights arriving at Malaga, Madrid and Barcelona\")"
   ]
  },
  {
   "cell_type": "code",
   "execution_count": null,
   "metadata": {},
   "outputs": [],
   "source": [
    "PARAMETERS\n",
    "\n",
    "  df: Dataframeyear: Year to filter by. 2013 by default\n",
    "\n",
    "  '''\n",
    "\n",
    "#df[df['year'] == year]\n",
    "\n",
    "  data_chunk['Date'] = data_chunk['Date'].str.strip().str[:7]\n",
    "\n",
    "#data_chunk['Date'] = pd.to_datetime(data_chunk['Date'], errors='coerce')\n",
    "\n",
    "  data_chunk['Destination'] = data_chunk['Destination'].str.strip().str.upper()\n",
    "\n",
    "  data_chunk.dropna(inplace=True)\n",
    "\n",
    "  #data_chunk.reset_index(inplace=True)\n",
    "\n",
    "   \n",
    "\n",
    "  destination_length = (df['Destination'].map(len) != 3).sum()\n",
    "\n",
    "  if destination_length != 0:\n",
    "    print('Alert! There are `Destination` values with length different than 3, check it.')\n",
    "\n",
    "   \n",
    "\n",
    "  return df\n",
    "\n"
   ]
  },
  {
   "cell_type": "code",
   "execution_count": 91,
   "metadata": {},
   "outputs": [],
   "source": [
    "tst = searches[(searches['Destination'].map(len) != 3)]"
   ]
  },
  {
   "cell_type": "code",
   "execution_count": 92,
   "metadata": {},
   "outputs": [
    {
     "data": {
      "text/html": [
       "<div>\n",
       "<style scoped>\n",
       "    .dataframe tbody tr th:only-of-type {\n",
       "        vertical-align: middle;\n",
       "    }\n",
       "\n",
       "    .dataframe tbody tr th {\n",
       "        vertical-align: top;\n",
       "    }\n",
       "\n",
       "    .dataframe thead th {\n",
       "        text-align: right;\n",
       "    }\n",
       "</style>\n",
       "<table border=\"1\" class=\"dataframe\">\n",
       "  <thead>\n",
       "    <tr style=\"text-align: right;\">\n",
       "      <th></th>\n",
       "      <th>Date</th>\n",
       "      <th>Destination</th>\n",
       "    </tr>\n",
       "  </thead>\n",
       "  <tbody>\n",
       "    <tr>\n",
       "      <th>20390197</th>\n",
       "      <td>2013-10-13</td>\n",
       "      <td>HA</td>\n",
       "    </tr>\n",
       "  </tbody>\n",
       "</table>\n",
       "</div>"
      ],
      "text/plain": [
       "                Date Destination\n",
       "20390197  2013-10-13          HA"
      ]
     },
     "execution_count": 92,
     "metadata": {},
     "output_type": "execute_result"
    }
   ],
   "source": [
    "tst"
   ]
  },
  {
   "cell_type": "code",
   "execution_count": null,
   "metadata": {},
   "outputs": [],
   "source": [
    "search"
   ]
  },
  {
   "cell_type": "code",
   "execution_count": null,
   "metadata": {},
   "outputs": [],
   "source": []
  },
  {
   "cell_type": "markdown",
   "metadata": {},
   "source": [
    "# FINAL CODE "
   ]
  },
  {
   "cell_type": "code",
   "execution_count": 95,
   "metadata": {},
   "outputs": [
    {
     "name": "stdout",
     "output_type": "stream",
     "text": [
      "Wrong IATA CODE FOUND, in Destination field!!!                 Date Destination\n",
      "20390197  2013-10-13          HA\n",
      "Wrong IATA code line has been removed\n",
      "Chunk: 1, size of chunk 1000000\n",
      "Chunk: 2, size of chunk 1000000\n",
      "Chunk: 3, size of chunk 1000000\n",
      "Chunk: 4, size of chunk 1000000\n",
      "Chunk: 5, size of chunk 1000000\n",
      "Chunk: 6, size of chunk 1000000\n",
      "Chunk: 7, size of chunk 1000000\n",
      "Chunk: 8, size of chunk 1000000\n",
      "Chunk: 9, size of chunk 1000000\n",
      "Chunk: 10, size of chunk 1000000\n",
      "Chunk: 11, size of chunk 1000000\n",
      "Chunk: 12, size of chunk 1000000\n",
      "Chunk: 13, size of chunk 1000000\n",
      "Chunk: 14, size of chunk 1000000\n",
      "Chunk: 15, size of chunk 1000000\n",
      "Chunk: 16, size of chunk 1000000\n",
      "Chunk: 17, size of chunk 1000000\n",
      "Chunk: 18, size of chunk 1000000\n",
      "Chunk: 19, size of chunk 1000000\n",
      "Chunk: 20, size of chunk 1000000\n",
      "Chunk: 21, size of chunk 390198\n",
      "Below chart has been saved in your home folder\n"
     ]
    },
    {
     "data": {
      "image/png": "[encoded data removed]",
      "text/plain": [
       "<Figure size 720x576 with 1 Axes>"
      ]
     },
     "metadata": {},
     "output_type": "display_data"
    }
   ],
   "source": [
    "#Import libraries\n",
    "\n",
    "import seaborn as sns\n",
    "import pandas as pd\n",
    "import bz2\n",
    "\n",
    "# Data Cleaning\n",
    "\n",
    "wrong_iata = searches[(searches['Destination'].map(len) != 3)]\n",
    "print (\"Wrong IATA CODE FOUND, in Destination field!!!\", wrong_iata)\n",
    "print (\"Wrong IATA code line has been removed\")\n",
    "\n",
    "\n",
    "# Chunk process reading \"big data\" and grouping by requested cities\n",
    "\n",
    "searches = pd.read_csv ('searches.csv', sep = '^', usecols = ['Destination', 'Date'],\\\n",
    "                 chunksize= 1000000)\n",
    "\n",
    "results = pd.DataFrame()\n",
    "\n",
    "for i, chunk in enumerate (searches):\n",
    "    print (\"Chunk: %d, size of chunk %d\"%(i+1, len(chunk)))\n",
    "    searches= chunk.dropna()\n",
    "    searchFilter= searches[searches['Destination'].isin (['MAD', 'BCN', 'AGP'])].copy()\n",
    "    searchFilter['Year-Month']=searchFilter['Date'].str[0:7]\n",
    "    searchFilter.drop('Date', axis = 1, inplace = True)\n",
    "    searchFilter_gr= searchFilter.reset_index().groupby(['Year-Month', 'Destination']).count().reset_index()\n",
    "    results=results.append(searchFilter_gr)\n",
    "\n",
    "all_results_gr = all_results.groupby(['Year-Month', 'Destination']).sum().reset_index()\n",
    "all_results_gr.rename (columns = {'index' : 'Num_Searches'}, inplace = True)\n",
    "\n",
    "#Plotting with seaborn\n",
    "\n",
    "plt.style.use('seaborn')\n",
    "fig, ax=plt.subplots(figsize=(10,8))\n",
    "\n",
    "ax=sns.pointplot (x= 'Year-Month', y= 'Num_Searches', hue = 'Destination', data=all_results_gr)\n",
    "ax.set(xlabel ='Year-Month', ylabel='Number of Searches')\n",
    "ax.set_title(\"Monthly searches for flights arriving at Malaga, Madrid and Barcelona\")\n",
    "\n",
    "#Exporting chart to file\n",
    "\n",
    "ax.figure.savefig('Exercise3Output.png')\n",
    "\n",
    "print (\"Below chart has been saved in your home folder\")"
   ]
  },
  {
   "cell_type": "code",
   "execution_count": null,
   "metadata": {},
   "outputs": [],
   "source": []
  }
 ],
 "metadata": {
  "kernelspec": {
   "display_name": "Python 3",
   "language": "python",
   "name": "python3"
  },
  "language_info": {
   "codemirror_mode": {
    "name": "ipython",
    "version": 3
   },
   "file_extension": ".py",
   "mimetype": "text/x-python",
   "name": "python",
   "nbconvert_exporter": "python",
   "pygments_lexer": "ipython3",
   "version": "3.8.5"
  }
 },
 "nbformat": 4,
 "nbformat_minor": 4
}
