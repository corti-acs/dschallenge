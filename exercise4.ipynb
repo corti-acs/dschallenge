{
 "cells": [
  {
   "cell_type": "markdown",
   "metadata": {},
   "source": [
    "# EXERCISE 4"
   ]
  },
  {
   "cell_type": "code",
   "execution_count": 13,
   "metadata": {},
   "outputs": [],
   "source": [
    "import pandas as pd\n",
    "import bz2\n"
   ]
  },
  {
   "cell_type": "code",
   "execution_count": 14,
   "metadata": {},
   "outputs": [
    {
     "data": {
      "text/plain": [
       "'/Users/cortinas/Documents/DSchallenge/dschallenge'"
      ]
     },
     "execution_count": 14,
     "metadata": {},
     "output_type": "execute_result"
    }
   ],
   "source": [
    "pwd\n"
   ]
  },
  {
   "cell_type": "code",
   "execution_count": 21,
   "metadata": {},
   "outputs": [
    {
     "name": "stdout",
     "output_type": "stream",
     "text": [
      "total 17538480\r\n",
      "-rw-r--r--@ 1 cortinas  staff   483188920 Nov 20  2020 searches.csv.bz2\r\n",
      "-rw-r--r--@ 1 cortinas  staff   554970628 Nov 20  2020 bookings.csv.bz2\r\n",
      "-rw-r--r--@ 1 cortinas  staff         679 Jun 11 18:33 README.md\r\n",
      "-rw-r--r--  1 cortinas  staff  4244874509 Jun 11 18:54 bookings.csv\r\n",
      "-rw-r--r--  1 cortinas  staff  3696229366 Jun 11 18:57 searches.csv\r\n",
      "-rw-r--r--@ 1 cortinas  staff         639 Jun 15 21:29 top_10_airports.csv\r\n",
      "-rw-r--r--  1 cortinas  staff       21907 Jun 15 21:40 exercise1.ipynb\r\n",
      "-rw-r--r--  1 cortinas  staff       85887 Jun 15 21:40 exercise2.ipynb\r\n",
      "-rw-r--r--@ 1 cortinas  staff       45242 Jun 16 20:33 output.png\r\n",
      "-rw-r--r--  1 cortinas  staff       45700 Jun 16 21:06 Exercise3Output.png\r\n",
      "-rw-r--r--  1 cortinas  staff      205073 Jun 16 21:31 exercise3.ipynb\r\n",
      "-rw-r--r--  1 cortinas  staff        3230 Jun 17 19:09 exercise4.ipynb\r\n"
     ]
    }
   ],
   "source": [
    "ls -lrt"
   ]
  },
  {
   "cell_type": "markdown",
   "metadata": {},
   "source": [
    "## Creation of new searches and bookings file removing duplicates"
   ]
  },
  {
   "cell_type": "code",
   "execution_count": 23,
   "metadata": {},
   "outputs": [],
   "source": [
    "bookings = pd.read_csv ('bookings.csv.bz2', sep ='^', chunksize = 300000, low_memory = False)\n"
   ]
  },
  {
   "cell_type": "code",
   "execution_count": 24,
   "metadata": {},
   "outputs": [
    {
     "name": "stdout",
     "output_type": "stream",
     "text": [
      "Chunk 1, keeping 300000 lines\n",
      "Chunk 2, keeping 600000 lines\n",
      "Chunk 3, keeping 900000 lines\n",
      "Chunk 4, keeping 1000000 lines\n",
      "Chunk 5, keeping 1000000 lines\n",
      "Chunk 6, keeping 1000000 lines\n",
      "Chunk 7, keeping 1000000 lines\n",
      "Chunk 8, keeping 1000000 lines\n",
      "Chunk 9, keeping 1000000 lines\n",
      "Chunk 10, keeping 1000000 lines\n",
      "Chunk 11, keeping 1000000 lines\n",
      "Chunk 12, keeping 1000000 lines\n",
      "Chunk 13, keeping 1000000 lines\n",
      "Chunk 14, keeping 1000000 lines\n",
      "Chunk 15, keeping 1000000 lines\n",
      "Chunk 16, keeping 1000000 lines\n",
      "Chunk 17, keeping 1299993 lines\n",
      "Chunk 18, keeping 1299993 lines\n",
      "Chunk 19, keeping 1299993 lines\n",
      "Chunk 20, keeping 1299993 lines\n",
      "Chunk 21, keeping 1299993 lines\n",
      "Chunk 22, keeping 1299993 lines\n",
      "Chunk 23, keeping 1299993 lines\n",
      "Chunk 24, keeping 1299993 lines\n",
      "Chunk 25, keeping 1299993 lines\n",
      "Chunk 26, keeping 1299993 lines\n",
      "Chunk 27, keeping 1299993 lines\n",
      "Chunk 28, keeping 1299993 lines\n",
      "Chunk 29, keeping 1299993 lines\n",
      "Chunk 30, keeping 1299993 lines\n",
      "Chunk 31, keeping 1299993 lines\n",
      "Chunk 32, keeping 1299993 lines\n",
      "Chunk 33, keeping 1299993 lines\n",
      "Chunk 34, keeping 1299993 lines\n"
     ]
    }
   ],
   "source": [
    "bookings = pd.read_csv ('bookings.csv.bz2', sep ='^', chunksize = 300000, low_memory = True, dtype=str)\n",
    "all_chunks = pd.DataFrame()\n",
    "for i, chunk in enumerate (bookings):\n",
    "    all_chunks=all_chunks.append (chunk)\n",
    "    all_chunks= all_chunks.drop_duplicates()\n",
    "    print (\"Chunk %d, keeping %d lines\" % ((i+1), len (all_chunks)))"
   ]
  },
  {
   "cell_type": "code",
   "execution_count": 25,
   "metadata": {},
   "outputs": [],
   "source": [
    "all_chunks.to_csv ('bookings.no_dup.csv', sep = '^', index = False)\n",
    "!bzip2 -f bookings.no_dup.csv\n"
   ]
  },
  {
   "cell_type": "code",
   "execution_count": 26,
   "metadata": {},
   "outputs": [
    {
     "name": "stdout",
     "output_type": "stream",
     "text": [
      "total 17702768\r\n",
      "-rw-r--r--@ 1 cortinas  staff   483188920 Nov 20  2020 searches.csv.bz2\r\n",
      "-rw-r--r--@ 1 cortinas  staff   554970628 Nov 20  2020 bookings.csv.bz2\r\n",
      "-rw-r--r--@ 1 cortinas  staff         679 Jun 11 18:33 README.md\r\n",
      "-rw-r--r--  1 cortinas  staff  4244874509 Jun 11 18:54 bookings.csv\r\n",
      "-rw-r--r--  1 cortinas  staff  3696229366 Jun 11 18:57 searches.csv\r\n",
      "-rw-r--r--@ 1 cortinas  staff         639 Jun 15 21:29 top_10_airports.csv\r\n",
      "-rw-r--r--  1 cortinas  staff       21907 Jun 15 21:40 exercise1.ipynb\r\n",
      "-rw-r--r--  1 cortinas  staff       85887 Jun 15 21:40 exercise2.ipynb\r\n",
      "-rw-r--r--@ 1 cortinas  staff       45242 Jun 16 20:33 output.png\r\n",
      "-rw-r--r--  1 cortinas  staff       45700 Jun 16 21:06 Exercise3Output.png\r\n",
      "-rw-r--r--  1 cortinas  staff      205073 Jun 16 21:31 exercise3.ipynb\r\n",
      "-rw-r--r--  1 cortinas  staff    72211641 Jun 17 19:22 bookings.no_dup.csv.bz2\r\n",
      "-rw-r--r--  1 cortinas  staff        4880 Jun 17 19:23 exercise4.ipynb\r\n"
     ]
    }
   ],
   "source": [
    "ls -lrt"
   ]
  },
  {
   "cell_type": "code",
   "execution_count": 28,
   "metadata": {},
   "outputs": [
    {
     "name": "stdout",
     "output_type": "stream",
     "text": [
      "Chunk 1, keeping 299999 lines\n",
      "Chunk 2, keeping 358999 lines\n",
      "Chunk 3, keeping 358999 lines\n",
      "Chunk 4, keeping 358999 lines\n",
      "Chunk 5, keeping 359003 lines\n",
      "Chunk 6, keeping 359003 lines\n",
      "Chunk 7, keeping 359003 lines\n",
      "Chunk 8, keeping 359003 lines\n",
      "Chunk 9, keeping 359003 lines\n",
      "Chunk 10, keeping 359003 lines\n",
      "Chunk 11, keeping 359003 lines\n",
      "Chunk 12, keeping 359003 lines\n",
      "Chunk 13, keeping 359003 lines\n",
      "Chunk 14, keeping 359003 lines\n",
      "Chunk 15, keeping 359003 lines\n",
      "Chunk 16, keeping 359003 lines\n",
      "Chunk 17, keeping 359003 lines\n",
      "Chunk 18, keeping 359003 lines\n",
      "Chunk 19, keeping 359003 lines\n",
      "Chunk 20, keeping 359003 lines\n",
      "Chunk 21, keeping 359003 lines\n",
      "Chunk 22, keeping 359003 lines\n",
      "Chunk 23, keeping 359003 lines\n",
      "Chunk 24, keeping 359003 lines\n",
      "Chunk 25, keeping 359003 lines\n",
      "Chunk 26, keeping 359003 lines\n",
      "Chunk 27, keeping 359003 lines\n",
      "Chunk 28, keeping 359003 lines\n",
      "Chunk 29, keeping 359003 lines\n",
      "Chunk 30, keeping 359003 lines\n",
      "Chunk 31, keeping 359003 lines\n",
      "Chunk 32, keeping 359003 lines\n",
      "Chunk 33, keeping 359003 lines\n",
      "Chunk 34, keeping 359003 lines\n",
      "Chunk 35, keeping 359003 lines\n",
      "Chunk 36, keeping 359003 lines\n",
      "Chunk 37, keeping 359003 lines\n",
      "Chunk 38, keeping 359003 lines\n",
      "Chunk 39, keeping 359003 lines\n",
      "Chunk 40, keeping 359003 lines\n",
      "Chunk 41, keeping 359003 lines\n",
      "Chunk 42, keeping 359003 lines\n",
      "Chunk 43, keeping 359003 lines\n",
      "Chunk 44, keeping 359003 lines\n",
      "Chunk 45, keeping 359003 lines\n",
      "Chunk 46, keeping 359003 lines\n",
      "Chunk 47, keeping 359003 lines\n",
      "Chunk 48, keeping 359003 lines\n",
      "Chunk 49, keeping 359003 lines\n",
      "Chunk 50, keeping 359003 lines\n",
      "Chunk 51, keeping 359003 lines\n",
      "Chunk 52, keeping 359003 lines\n",
      "Chunk 53, keeping 359003 lines\n",
      "Chunk 54, keeping 359003 lines\n",
      "Chunk 55, keeping 359003 lines\n",
      "Chunk 56, keeping 359003 lines\n",
      "Chunk 57, keeping 359003 lines\n",
      "Chunk 58, keeping 359003 lines\n",
      "Chunk 59, keeping 359003 lines\n",
      "Chunk 60, keeping 359003 lines\n",
      "Chunk 61, keeping 359003 lines\n",
      "Chunk 62, keeping 359003 lines\n",
      "Chunk 63, keeping 359003 lines\n",
      "Chunk 64, keeping 359003 lines\n",
      "Chunk 65, keeping 359003 lines\n",
      "Chunk 66, keeping 359003 lines\n",
      "Chunk 67, keeping 359003 lines\n",
      "Chunk 68, keeping 359004 lines\n"
     ]
    }
   ],
   "source": [
    "searches = pd.read_csv ('searches.csv.bz2', sep ='^', chunksize = 300000, low_memory = True, dtype=str)\n",
    "all_chunks = pd.DataFrame()\n",
    "for i, chunk in enumerate (searches):\n",
    "    all_chunks=all_chunks.append (chunk)\n",
    "    all_chunks= all_chunks.drop_duplicates()\n",
    "    print (\"Chunk %d, keeping %d lines\" % ((i+1), len (all_chunks)))"
   ]
  },
  {
   "cell_type": "code",
   "execution_count": 30,
   "metadata": {},
   "outputs": [],
   "source": [
    "all_chunks.to_csv ('searches.no_dup.csv', sep = '^', index = False)\n"
   ]
  },
  {
   "cell_type": "code",
   "execution_count": 32,
   "metadata": {},
   "outputs": [],
   "source": [
    "!bzip2 -f searches.no_dup.csv"
   ]
  },
  {
   "cell_type": "code",
   "execution_count": 33,
   "metadata": {},
   "outputs": [
    {
     "name": "stdout",
     "output_type": "stream",
     "text": [
      "total 17721240\r\n",
      "-rw-r--r--@ 1 cortinas  staff   483188920 Nov 20  2020 searches.csv.bz2\r\n",
      "-rw-r--r--@ 1 cortinas  staff   554970628 Nov 20  2020 bookings.csv.bz2\r\n",
      "-rw-r--r--@ 1 cortinas  staff         679 Jun 11 18:33 README.md\r\n",
      "-rw-r--r--  1 cortinas  staff  4244874509 Jun 11 18:54 bookings.csv\r\n",
      "-rw-r--r--  1 cortinas  staff  3696229366 Jun 11 18:57 searches.csv\r\n",
      "-rw-r--r--@ 1 cortinas  staff         639 Jun 15 21:29 top_10_airports.csv\r\n",
      "-rw-r--r--  1 cortinas  staff       21907 Jun 15 21:40 exercise1.ipynb\r\n",
      "-rw-r--r--  1 cortinas  staff       85887 Jun 15 21:40 exercise2.ipynb\r\n",
      "-rw-r--r--@ 1 cortinas  staff       45242 Jun 16 20:33 output.png\r\n",
      "-rw-r--r--  1 cortinas  staff       45700 Jun 16 21:06 Exercise3Output.png\r\n",
      "-rw-r--r--  1 cortinas  staff      205073 Jun 16 21:31 exercise3.ipynb\r\n",
      "-rw-r--r--  1 cortinas  staff    72211641 Jun 17 19:22 bookings.no_dup.csv.bz2\r\n",
      "-rw-r--r--  1 cortinas  staff     8504895 Jun 17 19:47 searches.no_dup.csv.bz2\r\n",
      "-rw-r--r--  1 cortinas  staff        9996 Jun 17 19:49 exercise4.ipynb\r\n"
     ]
    }
   ],
   "source": [
    "ls -lrt"
   ]
  },
  {
   "cell_type": "markdown",
   "metadata": {},
   "source": [
    "## Exploring data"
   ]
  },
  {
   "cell_type": "code",
   "execution_count": 34,
   "metadata": {},
   "outputs": [],
   "source": [
    "bookings = pd.read_csv ('bookings.no_dup.csv.bz2', sep = '^', nrows=100)"
   ]
  },
  {
   "cell_type": "code",
   "execution_count": 35,
   "metadata": {},
   "outputs": [
    {
     "data": {
      "text/html": [
       "<div>\n",
       "<style scoped>\n",
       "    .dataframe tbody tr th:only-of-type {\n",
       "        vertical-align: middle;\n",
       "    }\n",
       "\n",
       "    .dataframe tbody tr th {\n",
       "        vertical-align: top;\n",
       "    }\n",
       "\n",
       "    .dataframe thead th {\n",
       "        text-align: right;\n",
       "    }\n",
       "</style>\n",
       "<table border=\"1\" class=\"dataframe\">\n",
       "  <thead>\n",
       "    <tr style=\"text-align: right;\">\n",
       "      <th></th>\n",
       "      <th>act_date</th>\n",
       "      <th>source</th>\n",
       "      <th>pos_ctry</th>\n",
       "      <th>pos_iata</th>\n",
       "      <th>pos_oid</th>\n",
       "      <th>rloc</th>\n",
       "      <th>cre_date</th>\n",
       "      <th>duration</th>\n",
       "      <th>distance</th>\n",
       "      <th>dep_port</th>\n",
       "      <th>...</th>\n",
       "      <th>route</th>\n",
       "      <th>carrier</th>\n",
       "      <th>bkg_class</th>\n",
       "      <th>cab_class</th>\n",
       "      <th>brd_time</th>\n",
       "      <th>off_time</th>\n",
       "      <th>pax</th>\n",
       "      <th>year</th>\n",
       "      <th>month</th>\n",
       "      <th>oid</th>\n",
       "    </tr>\n",
       "  </thead>\n",
       "  <tbody>\n",
       "    <tr>\n",
       "      <th>0</th>\n",
       "      <td>2013-03-05 00:00:00</td>\n",
       "      <td>1A</td>\n",
       "      <td>DE</td>\n",
       "      <td>a68dd7ae953c8acfb187a1af2dcbe123</td>\n",
       "      <td>1a11ae49fcbf545fd2afc1a24d88d2b7</td>\n",
       "      <td>ea65900e72d71f4626378e2ebd298267</td>\n",
       "      <td>2013-02-22 00:00:00</td>\n",
       "      <td>1708</td>\n",
       "      <td>0</td>\n",
       "      <td>ZRH</td>\n",
       "      <td>...</td>\n",
       "      <td>LHRZRH</td>\n",
       "      <td>VI</td>\n",
       "      <td>T</td>\n",
       "      <td>Y</td>\n",
       "      <td>2013-03-07 08:50:00</td>\n",
       "      <td>2013-03-07 11:33:37</td>\n",
       "      <td>-1.0</td>\n",
       "      <td>2013.0</td>\n",
       "      <td>3.0</td>\n",
       "      <td>NULL</td>\n",
       "    </tr>\n",
       "    <tr>\n",
       "      <th>1</th>\n",
       "      <td>2013-03-26 00:00:00</td>\n",
       "      <td>1A</td>\n",
       "      <td>US</td>\n",
       "      <td>e612b9eeeee6f17f42d9b0d3b79e75ca</td>\n",
       "      <td>7437560d8f276d6d05eeb806d9e7edee</td>\n",
       "      <td>737295a86982c941f1c2da9a46a14043</td>\n",
       "      <td>2013-03-26 00:00:00</td>\n",
       "      <td>135270</td>\n",
       "      <td>0</td>\n",
       "      <td>SAL</td>\n",
       "      <td>...</td>\n",
       "      <td>SALATLCLT</td>\n",
       "      <td>NV</td>\n",
       "      <td>L</td>\n",
       "      <td>Y</td>\n",
       "      <td>2013-04-12 13:04:00</td>\n",
       "      <td>2013-04-12 22:05:40</td>\n",
       "      <td>1.0</td>\n",
       "      <td>2013.0</td>\n",
       "      <td>3.0</td>\n",
       "      <td>NULL</td>\n",
       "    </tr>\n",
       "    <tr>\n",
       "      <th>2</th>\n",
       "      <td>2013-03-26 00:00:00</td>\n",
       "      <td>1A</td>\n",
       "      <td>US</td>\n",
       "      <td>e612b9eeeee6f17f42d9b0d3b79e75ca</td>\n",
       "      <td>7437560d8f276d6d05eeb806d9e7edee</td>\n",
       "      <td>737295a86982c941f1c2da9a46a14043</td>\n",
       "      <td>2013-03-26 00:00:00</td>\n",
       "      <td>135270</td>\n",
       "      <td>0</td>\n",
       "      <td>SAL</td>\n",
       "      <td>...</td>\n",
       "      <td>CLTATLSAL</td>\n",
       "      <td>NV</td>\n",
       "      <td>U</td>\n",
       "      <td>Y</td>\n",
       "      <td>2013-07-15 07:00:00</td>\n",
       "      <td>2013-07-15 11:34:51</td>\n",
       "      <td>1.0</td>\n",
       "      <td>2013.0</td>\n",
       "      <td>3.0</td>\n",
       "      <td>NULL</td>\n",
       "    </tr>\n",
       "    <tr>\n",
       "      <th>3</th>\n",
       "      <td>2013-03-26 00:00:00</td>\n",
       "      <td>1A</td>\n",
       "      <td>AU</td>\n",
       "      <td>0f984b3bb6bd06661c95529bbd6193bc</td>\n",
       "      <td>36472c6dbaf7afec9136ac40364e2794</td>\n",
       "      <td>5ecf00fdcbcec761c43dc7285253d0c1</td>\n",
       "      <td>2013-03-26 00:00:00</td>\n",
       "      <td>30885</td>\n",
       "      <td>0</td>\n",
       "      <td>AKL</td>\n",
       "      <td>...</td>\n",
       "      <td>AKLHKGSVO</td>\n",
       "      <td>XK</td>\n",
       "      <td>G</td>\n",
       "      <td>Y</td>\n",
       "      <td>2013-04-24 23:59:00</td>\n",
       "      <td>2013-04-25 16:06:31</td>\n",
       "      <td>1.0</td>\n",
       "      <td>2013.0</td>\n",
       "      <td>3.0</td>\n",
       "      <td>SYDA82546</td>\n",
       "    </tr>\n",
       "    <tr>\n",
       "      <th>4</th>\n",
       "      <td>2013-03-26 00:00:00</td>\n",
       "      <td>1A</td>\n",
       "      <td>AU</td>\n",
       "      <td>0f984b3bb6bd06661c95529bbd6193bc</td>\n",
       "      <td>36472c6dbaf7afec9136ac40364e2794</td>\n",
       "      <td>5ecf00fdcbcec761c43dc7285253d0c1</td>\n",
       "      <td>2013-03-26 00:00:00</td>\n",
       "      <td>30885</td>\n",
       "      <td>0</td>\n",
       "      <td>AKL</td>\n",
       "      <td>...</td>\n",
       "      <td>SVOHKGAKL</td>\n",
       "      <td>XK</td>\n",
       "      <td>G</td>\n",
       "      <td>Y</td>\n",
       "      <td>2013-05-14 20:15:00</td>\n",
       "      <td>2013-05-16 10:44:50</td>\n",
       "      <td>1.0</td>\n",
       "      <td>2013.0</td>\n",
       "      <td>3.0</td>\n",
       "      <td>SYDA82546</td>\n",
       "    </tr>\n",
       "  </tbody>\n",
       "</table>\n",
       "<p>5 rows × 38 columns</p>\n",
       "</div>"
      ],
      "text/plain": [
       "   act_date             source  pos_ctry                          pos_iata  \\\n",
       "0  2013-03-05 00:00:00  1A      DE        a68dd7ae953c8acfb187a1af2dcbe123   \n",
       "1  2013-03-26 00:00:00  1A      US        e612b9eeeee6f17f42d9b0d3b79e75ca   \n",
       "2  2013-03-26 00:00:00  1A      US        e612b9eeeee6f17f42d9b0d3b79e75ca   \n",
       "3  2013-03-26 00:00:00  1A      AU        0f984b3bb6bd06661c95529bbd6193bc   \n",
       "4  2013-03-26 00:00:00  1A      AU        0f984b3bb6bd06661c95529bbd6193bc   \n",
       "\n",
       "                          pos_oid                      rloc            \\\n",
       "0  1a11ae49fcbf545fd2afc1a24d88d2b7  ea65900e72d71f4626378e2ebd298267   \n",
       "1  7437560d8f276d6d05eeb806d9e7edee  737295a86982c941f1c2da9a46a14043   \n",
       "2  7437560d8f276d6d05eeb806d9e7edee  737295a86982c941f1c2da9a46a14043   \n",
       "3  36472c6dbaf7afec9136ac40364e2794  5ecf00fdcbcec761c43dc7285253d0c1   \n",
       "4  36472c6dbaf7afec9136ac40364e2794  5ecf00fdcbcec761c43dc7285253d0c1   \n",
       "\n",
       "   cre_date             duration  distance  dep_port  ...  route            \\\n",
       "0  2013-02-22 00:00:00      1708         0  ZRH       ...  LHRZRH            \n",
       "1  2013-03-26 00:00:00    135270         0  SAL       ...  SALATLCLT         \n",
       "2  2013-03-26 00:00:00    135270         0  SAL       ...  CLTATLSAL         \n",
       "3  2013-03-26 00:00:00     30885         0  AKL       ...  AKLHKGSVO         \n",
       "4  2013-03-26 00:00:00     30885         0  AKL       ...  SVOHKGAKL         \n",
       "\n",
       "  carrier  bkg_class  cab_class  brd_time             off_time             \\\n",
       "0      VI  T          Y          2013-03-07 08:50:00  2013-03-07 11:33:37   \n",
       "1      NV  L          Y          2013-04-12 13:04:00  2013-04-12 22:05:40   \n",
       "2      NV  U          Y          2013-07-15 07:00:00  2013-07-15 11:34:51   \n",
       "3      XK  G          Y          2013-04-24 23:59:00  2013-04-25 16:06:31   \n",
       "4      XK  G          Y          2013-05-14 20:15:00  2013-05-16 10:44:50   \n",
       "\n",
       "   pax    year month  oid        \n",
       "0 -1.0  2013.0   3.0  NULL       \n",
       "1  1.0  2013.0   3.0  NULL       \n",
       "2  1.0  2013.0   3.0  NULL       \n",
       "3  1.0  2013.0   3.0  SYDA82546  \n",
       "4  1.0  2013.0   3.0  SYDA82546  \n",
       "\n",
       "[5 rows x 38 columns]"
      ]
     },
     "execution_count": 35,
     "metadata": {},
     "output_type": "execute_result"
    }
   ],
   "source": [
    "bookings.head()"
   ]
  },
  {
   "cell_type": "code",
   "execution_count": 36,
   "metadata": {},
   "outputs": [
    {
     "data": {
      "text/plain": [
       "['act_date           ',\n",
       " 'source',\n",
       " 'pos_ctry',\n",
       " 'pos_iata',\n",
       " 'pos_oid  ',\n",
       " 'rloc          ',\n",
       " 'cre_date           ',\n",
       " 'duration',\n",
       " 'distance',\n",
       " 'dep_port',\n",
       " 'dep_city',\n",
       " 'dep_ctry',\n",
       " 'arr_port',\n",
       " 'arr_city',\n",
       " 'arr_ctry',\n",
       " 'lst_port',\n",
       " 'lst_city',\n",
       " 'lst_ctry',\n",
       " 'brd_port',\n",
       " 'brd_city',\n",
       " 'brd_ctry',\n",
       " 'off_port',\n",
       " 'off_city',\n",
       " 'off_ctry',\n",
       " 'mkt_port',\n",
       " 'mkt_city',\n",
       " 'mkt_ctry',\n",
       " 'intl',\n",
       " 'route          ',\n",
       " 'carrier',\n",
       " 'bkg_class',\n",
       " 'cab_class',\n",
       " 'brd_time           ',\n",
       " 'off_time           ',\n",
       " 'pax',\n",
       " 'year',\n",
       " 'month',\n",
       " 'oid      ']"
      ]
     },
     "execution_count": 36,
     "metadata": {},
     "output_type": "execute_result"
    }
   ],
   "source": [
    "bookings.columns.tolist()"
   ]
  },
  {
   "cell_type": "markdown",
   "metadata": {},
   "source": [
    "Columns with spaces \"OJO\""
   ]
  },
  {
   "cell_type": "code",
   "execution_count": 37,
   "metadata": {},
   "outputs": [
    {
     "name": "stdout",
     "output_type": "stream",
     "text": [
      "On branch main\r\n",
      "Your branch is up to date with 'origin/main'.\r\n",
      "\r\n",
      "Untracked files:\r\n",
      "  (use \"git add <file>...\" to include in what will be committed)\r\n",
      "\t\u001b[31m.DS_Store\u001b[m\r\n",
      "\t\u001b[31m.ipynb_checkpoints/\u001b[m\r\n",
      "\t\u001b[31mExercise3Output.png\u001b[m\r\n",
      "\t\u001b[31mbookings.csv\u001b[m\r\n",
      "\t\u001b[31mbookings.csv.bz2\u001b[m\r\n",
      "\t\u001b[31mbookings.no_dup.csv.bz2\u001b[m\r\n",
      "\t\u001b[31mexercise4.ipynb\u001b[m\r\n",
      "\t\u001b[31msearches.csv\u001b[m\r\n",
      "\t\u001b[31msearches.csv.bz2\u001b[m\r\n",
      "\t\u001b[31msearches.no_dup.csv.bz2\u001b[m\r\n",
      "\r\n",
      "nothing added to commit but untracked files present (use \"git add\" to track)\r\n"
     ]
    }
   ],
   "source": [
    "!git status"
   ]
  },
  {
   "cell_type": "code",
   "execution_count": 41,
   "metadata": {},
   "outputs": [],
   "source": [
    "searches = pd.read_csv ('searches.no_dup.csv.bz2', sep = '^', nrows=100)"
   ]
  },
  {
   "cell_type": "code",
   "execution_count": 42,
   "metadata": {},
   "outputs": [
    {
     "data": {
      "text/html": [
       "<div>\n",
       "<style scoped>\n",
       "    .dataframe tbody tr th:only-of-type {\n",
       "        vertical-align: middle;\n",
       "    }\n",
       "\n",
       "    .dataframe tbody tr th {\n",
       "        vertical-align: top;\n",
       "    }\n",
       "\n",
       "    .dataframe thead th {\n",
       "        text-align: right;\n",
       "    }\n",
       "</style>\n",
       "<table border=\"1\" class=\"dataframe\">\n",
       "  <thead>\n",
       "    <tr style=\"text-align: right;\">\n",
       "      <th></th>\n",
       "      <th>Date</th>\n",
       "      <th>Time</th>\n",
       "      <th>TxnCode</th>\n",
       "      <th>OfficeID</th>\n",
       "      <th>Country</th>\n",
       "      <th>Origin</th>\n",
       "      <th>Destination</th>\n",
       "      <th>RoundTrip</th>\n",
       "      <th>NbSegments</th>\n",
       "      <th>Seg1Departure</th>\n",
       "      <th>...</th>\n",
       "      <th>Seg6Arrival</th>\n",
       "      <th>Seg6Date</th>\n",
       "      <th>Seg6Carrier</th>\n",
       "      <th>Seg6BookingCode</th>\n",
       "      <th>From</th>\n",
       "      <th>IsPublishedForNeg</th>\n",
       "      <th>IsFromInternet</th>\n",
       "      <th>IsFromVista</th>\n",
       "      <th>TerminalID</th>\n",
       "      <th>InternetOffice</th>\n",
       "    </tr>\n",
       "  </thead>\n",
       "  <tbody>\n",
       "    <tr>\n",
       "      <th>0</th>\n",
       "      <td>2013-01-01</td>\n",
       "      <td>20:25:57</td>\n",
       "      <td>MPT</td>\n",
       "      <td>624d8c3ac0b3a7ca03e3c167e0f48327</td>\n",
       "      <td>DE</td>\n",
       "      <td>TXL</td>\n",
       "      <td>AUH</td>\n",
       "      <td>1</td>\n",
       "      <td>2</td>\n",
       "      <td>TXL</td>\n",
       "      <td>...</td>\n",
       "      <td>NaN</td>\n",
       "      <td>NaN</td>\n",
       "      <td>NaN</td>\n",
       "      <td>NaN</td>\n",
       "      <td>1ASIWS</td>\n",
       "      <td>0</td>\n",
       "      <td>0</td>\n",
       "      <td>0</td>\n",
       "      <td>d41d8cd98f00b204e9800998ecf8427e</td>\n",
       "      <td>FRA</td>\n",
       "    </tr>\n",
       "    <tr>\n",
       "      <th>1</th>\n",
       "      <td>2013-01-01</td>\n",
       "      <td>10:15:33</td>\n",
       "      <td>MPT</td>\n",
       "      <td>b0af35b31588dc4ab06d5cf2986e8e02</td>\n",
       "      <td>MD</td>\n",
       "      <td>ATH</td>\n",
       "      <td>MIL</td>\n",
       "      <td>0</td>\n",
       "      <td>1</td>\n",
       "      <td>ATH</td>\n",
       "      <td>...</td>\n",
       "      <td>NaN</td>\n",
       "      <td>NaN</td>\n",
       "      <td>NaN</td>\n",
       "      <td>NaN</td>\n",
       "      <td>1ASIWS</td>\n",
       "      <td>0</td>\n",
       "      <td>0</td>\n",
       "      <td>0</td>\n",
       "      <td>d41d8cd98f00b204e9800998ecf8427e</td>\n",
       "      <td>KIV</td>\n",
       "    </tr>\n",
       "    <tr>\n",
       "      <th>2</th>\n",
       "      <td>2013-01-01</td>\n",
       "      <td>18:04:49</td>\n",
       "      <td>MPT</td>\n",
       "      <td>3561a60621de06ab1badc8ca55699ef3</td>\n",
       "      <td>US</td>\n",
       "      <td>ICT</td>\n",
       "      <td>SFO</td>\n",
       "      <td>1</td>\n",
       "      <td>2</td>\n",
       "      <td>ICT</td>\n",
       "      <td>...</td>\n",
       "      <td>NaN</td>\n",
       "      <td>NaN</td>\n",
       "      <td>NaN</td>\n",
       "      <td>NaN</td>\n",
       "      <td>1ASIWS</td>\n",
       "      <td>0</td>\n",
       "      <td>0</td>\n",
       "      <td>0</td>\n",
       "      <td>d41d8cd98f00b204e9800998ecf8427e</td>\n",
       "      <td>NYC</td>\n",
       "    </tr>\n",
       "    <tr>\n",
       "      <th>3</th>\n",
       "      <td>2013-01-01</td>\n",
       "      <td>17:42:40</td>\n",
       "      <td>FXP</td>\n",
       "      <td>1864e5e8013d9414150e91d26b6a558b</td>\n",
       "      <td>SE</td>\n",
       "      <td>RNB</td>\n",
       "      <td>ARN</td>\n",
       "      <td>0</td>\n",
       "      <td>1</td>\n",
       "      <td>RNB</td>\n",
       "      <td>...</td>\n",
       "      <td>NaN</td>\n",
       "      <td>NaN</td>\n",
       "      <td>NaN</td>\n",
       "      <td>NaN</td>\n",
       "      <td>1ASI</td>\n",
       "      <td>0</td>\n",
       "      <td>0</td>\n",
       "      <td>0</td>\n",
       "      <td>d41d8cd98f00b204e9800998ecf8427e</td>\n",
       "      <td>STO</td>\n",
       "    </tr>\n",
       "    <tr>\n",
       "      <th>4</th>\n",
       "      <td>2013-01-01</td>\n",
       "      <td>17:48:29</td>\n",
       "      <td>MPT</td>\n",
       "      <td>1ec336348f44207d2e0027dc3a68c118</td>\n",
       "      <td>NO</td>\n",
       "      <td>OSL</td>\n",
       "      <td>MAD</td>\n",
       "      <td>1</td>\n",
       "      <td>2</td>\n",
       "      <td>OSL</td>\n",
       "      <td>...</td>\n",
       "      <td>NaN</td>\n",
       "      <td>NaN</td>\n",
       "      <td>NaN</td>\n",
       "      <td>NaN</td>\n",
       "      <td>1ASIWS</td>\n",
       "      <td>0</td>\n",
       "      <td>0</td>\n",
       "      <td>0</td>\n",
       "      <td>d41d8cd98f00b204e9800998ecf8427e</td>\n",
       "      <td>OSL</td>\n",
       "    </tr>\n",
       "  </tbody>\n",
       "</table>\n",
       "<p>5 rows × 45 columns</p>\n",
       "</div>"
      ],
      "text/plain": [
       "         Date      Time TxnCode                          OfficeID Country  \\\n",
       "0  2013-01-01  20:25:57     MPT  624d8c3ac0b3a7ca03e3c167e0f48327      DE   \n",
       "1  2013-01-01  10:15:33     MPT  b0af35b31588dc4ab06d5cf2986e8e02      MD   \n",
       "2  2013-01-01  18:04:49     MPT  3561a60621de06ab1badc8ca55699ef3      US   \n",
       "3  2013-01-01  17:42:40     FXP  1864e5e8013d9414150e91d26b6a558b      SE   \n",
       "4  2013-01-01  17:48:29     MPT  1ec336348f44207d2e0027dc3a68c118      NO   \n",
       "\n",
       "  Origin Destination  RoundTrip  NbSegments Seg1Departure  ... Seg6Arrival  \\\n",
       "0    TXL         AUH          1           2           TXL  ...         NaN   \n",
       "1    ATH         MIL          0           1           ATH  ...         NaN   \n",
       "2    ICT         SFO          1           2           ICT  ...         NaN   \n",
       "3    RNB         ARN          0           1           RNB  ...         NaN   \n",
       "4    OSL         MAD          1           2           OSL  ...         NaN   \n",
       "\n",
       "  Seg6Date Seg6Carrier Seg6BookingCode    From IsPublishedForNeg  \\\n",
       "0      NaN         NaN             NaN  1ASIWS                 0   \n",
       "1      NaN         NaN             NaN  1ASIWS                 0   \n",
       "2      NaN         NaN             NaN  1ASIWS                 0   \n",
       "3      NaN         NaN             NaN    1ASI                 0   \n",
       "4      NaN         NaN             NaN  1ASIWS                 0   \n",
       "\n",
       "  IsFromInternet IsFromVista                        TerminalID InternetOffice  \n",
       "0              0           0  d41d8cd98f00b204e9800998ecf8427e            FRA  \n",
       "1              0           0  d41d8cd98f00b204e9800998ecf8427e            KIV  \n",
       "2              0           0  d41d8cd98f00b204e9800998ecf8427e            NYC  \n",
       "3              0           0  d41d8cd98f00b204e9800998ecf8427e            STO  \n",
       "4              0           0  d41d8cd98f00b204e9800998ecf8427e            OSL  \n",
       "\n",
       "[5 rows x 45 columns]"
      ]
     },
     "execution_count": 42,
     "metadata": {},
     "output_type": "execute_result"
    }
   ],
   "source": [
    "searches.head()"
   ]
  },
  {
   "cell_type": "code",
   "execution_count": 43,
   "metadata": {},
   "outputs": [
    {
     "data": {
      "text/plain": [
       "['Date',\n",
       " 'Time',\n",
       " 'TxnCode',\n",
       " 'OfficeID',\n",
       " 'Country',\n",
       " 'Origin',\n",
       " 'Destination',\n",
       " 'RoundTrip',\n",
       " 'NbSegments',\n",
       " 'Seg1Departure',\n",
       " 'Seg1Arrival',\n",
       " 'Seg1Date',\n",
       " 'Seg1Carrier',\n",
       " 'Seg1BookingCode',\n",
       " 'Seg2Departure',\n",
       " 'Seg2Arrival',\n",
       " 'Seg2Date',\n",
       " 'Seg2Carrier',\n",
       " 'Seg2BookingCode',\n",
       " 'Seg3Departure',\n",
       " 'Seg3Arrival',\n",
       " 'Seg3Date',\n",
       " 'Seg3Carrier',\n",
       " 'Seg3BookingCode',\n",
       " 'Seg4Departure',\n",
       " 'Seg4Arrival',\n",
       " 'Seg4Date',\n",
       " 'Seg4Carrier',\n",
       " 'Seg4BookingCode',\n",
       " 'Seg5Departure',\n",
       " 'Seg5Arrival',\n",
       " 'Seg5Date',\n",
       " 'Seg5Carrier',\n",
       " 'Seg5BookingCode',\n",
       " 'Seg6Departure',\n",
       " 'Seg6Arrival',\n",
       " 'Seg6Date',\n",
       " 'Seg6Carrier',\n",
       " 'Seg6BookingCode',\n",
       " 'From',\n",
       " 'IsPublishedForNeg',\n",
       " 'IsFromInternet',\n",
       " 'IsFromVista',\n",
       " 'TerminalID',\n",
       " 'InternetOffice']"
      ]
     },
     "execution_count": 43,
     "metadata": {},
     "output_type": "execute_result"
    }
   ],
   "source": [
    "searches.columns.tolist()"
   ]
  },
  {
   "cell_type": "markdown",
   "metadata": {},
   "source": [
    "## Identifying columns to be used"
   ]
  },
  {
   "cell_type": "code",
   "execution_count": 38,
   "metadata": {},
   "outputs": [],
   "source": [
    "bookings =pd.read_csv ('bookings.no_dup.csv.bz2', sep = '^',\\\n",
    "               usecols = ['cre_date           ', 'dep_port', 'arr_port'])"
   ]
  },
  {
   "cell_type": "code",
   "execution_count": 44,
   "metadata": {},
   "outputs": [],
   "source": [
    "searches =pd.read_csv ('searches.no_dup.csv.bz2', sep = '^',\\\n",
    "               usecols = ['Date', 'Origin', 'Destination'])"
   ]
  },
  {
   "cell_type": "markdown",
   "metadata": {},
   "source": [
    "## Checking potential issues with spaces in columns arr_port and dep_port that can cause issues merging data"
   ]
  },
  {
   "cell_type": "code",
   "execution_count": 47,
   "metadata": {},
   "outputs": [
    {
     "data": {
      "text/plain": [
       "['2013-02-22 00:00:00', 'ZRH     ', 'LHR     ']"
      ]
     },
     "execution_count": 47,
     "metadata": {},
     "output_type": "execute_result"
    }
   ],
   "source": [
    "\n",
    "bookings.iloc[0].tolist()"
   ]
  },
  {
   "cell_type": "code",
   "execution_count": 48,
   "metadata": {},
   "outputs": [
    {
     "data": {
      "text/plain": [
       "['2013-01-01', 'TXL', 'AUH']"
      ]
     },
     "execution_count": 48,
     "metadata": {},
     "output_type": "execute_result"
    }
   ],
   "source": [
    "searches.iloc[0].tolist()"
   ]
  },
  {
   "cell_type": "code",
   "execution_count": 49,
   "metadata": {},
   "outputs": [
    {
     "data": {
      "text/plain": [
       "'LHR'"
      ]
     },
     "execution_count": 49,
     "metadata": {},
     "output_type": "execute_result"
    }
   ],
   "source": [
    "bookings.iloc[0]['arr_port'].strip()"
   ]
  },
  {
   "cell_type": "code",
   "execution_count": 50,
   "metadata": {},
   "outputs": [
    {
     "data": {
      "text/plain": [
       "'ZRH'"
      ]
     },
     "execution_count": 50,
     "metadata": {},
     "output_type": "execute_result"
    }
   ],
   "source": [
    "bookings.iloc[0]['dep_port'].strip()"
   ]
  },
  {
   "cell_type": "code",
   "execution_count": null,
   "metadata": {},
   "outputs": [],
   "source": []
  }
 ],
 "metadata": {
  "kernelspec": {
   "display_name": "Python 3",
   "language": "python",
   "name": "python3"
  },
  "language_info": {
   "codemirror_mode": {
    "name": "ipython",
    "version": 3
   },
   "file_extension": ".py",
   "mimetype": "text/x-python",
   "name": "python",
   "nbconvert_exporter": "python",
   "pygments_lexer": "ipython3",
   "version": "3.8.5"
  }
 },
 "nbformat": 4,
 "nbformat_minor": 4
}
